{
 "cells": [
  {
   "cell_type": "code",
   "execution_count": 101,
   "id": "7168e662-0dd9-4359-a78b-3f7ef627f0a0",
   "metadata": {},
   "outputs": [],
   "source": [
    "import pandas as pd\n",
    "import numpy as np\n",
    "import matplotlib.pyplot as plt"
   ]
  },
  {
   "cell_type": "markdown",
   "id": "1ee041bf-514a-4ba0-97c1-94b17b2e445d",
   "metadata": {},
   "source": [
    "In this notebook, I seek to predict go-arounds (i.e. aborted landings) for 176 large airports from 44 different countries in 2019. (dataset linked [here](https://zenodo.org/record/7148117))."
   ]
  },
  {
   "cell_type": "code",
   "execution_count": 102,
   "id": "4d0cb0c9-a035-4fd9-9cf7-bbac707b466a",
   "metadata": {},
   "outputs": [
    {
     "name": "stderr",
     "output_type": "stream",
     "text": [
      "/var/folders/_j/vd_r650147l_5pl4bwls0xg00000gn/T/ipykernel_50292/1259920069.py:1: DtypeWarning: Columns (4,13) have mixed types. Specify dtype option on import or set low_memory=False.\n",
      "  df_loaded = pd.read_csv(\"go_arounds_augmented.csv\")\n"
     ]
    }
   ],
   "source": [
    "df_loaded = pd.read_csv(\"go_arounds_augmented.csv\")"
   ]
  },
  {
   "cell_type": "code",
   "execution_count": 185,
   "id": "e3eacd6c-c924-4bf9-9314-497668373a6b",
   "metadata": {},
   "outputs": [],
   "source": [
    "df = df_loaded.copy()"
   ]
  },
  {
   "cell_type": "code",
   "execution_count": 186,
   "id": "735afbd0-27b0-42cb-b983-cf36f00ae8f6",
   "metadata": {},
   "outputs": [
    {
     "data": {
      "text/plain": [
       "Index(['time', 'icao24', 'callsign', 'airport', 'runway', 'has_ga',\n",
       "       'n_approaches', 'n_rwy_approached', 'registration', 'typecode',\n",
       "       'icaoaircrafttype', 'wtc', 'glide_slope_angle', 'has_intersection',\n",
       "       'rwy_length', 'airport_country', 'airport_region', 'operator_country',\n",
       "       'operator_region', 'wind_speed_knts', 'wind_dir_deg', 'wind_gust_knts',\n",
       "       'visibility_m', 'temperature_deg', 'press_sea_level_p', 'press_p',\n",
       "       'weather_intensity', 'weather_precipitation', 'weather_desc',\n",
       "       'weather_obscuration', 'weather_other'],\n",
       "      dtype='object')"
      ]
     },
     "execution_count": 186,
     "metadata": {},
     "output_type": "execute_result"
    }
   ],
   "source": [
    "df.columns"
   ]
  },
  {
   "cell_type": "markdown",
   "id": "cb8fd4f0-0a1c-4281-9a85-df43a94fe732",
   "metadata": {},
   "source": [
    "# Decoding Weather Info"
   ]
  },
  {
   "cell_type": "markdown",
   "id": "41a253ad-e5ca-464c-b850-9b69e54bd477",
   "metadata": {},
   "source": [
    "This dataset uses METAR codes for weather ([link](http://moratech.com/aviation/metar-class/metar-pg9-ww.html)). I assign each precipitation/obscuration attribute with an integer between 1 (least intense) and 4 (most intense) which encodes the intensity of the phenomenon."
   ]
  },
  {
   "cell_type": "code",
   "execution_count": 187,
   "id": "58b43865-d879-4a6d-8b4e-1ebe6be39127",
   "metadata": {},
   "outputs": [],
   "source": [
    "import ast\n",
    "\n",
    "intensities_map = {'-' : 2, '': 3, '+': 4, 'VC': 1}\n",
    "weather_types = ['MI', 'PR', 'BC', 'DR', 'BL', 'SH', 'TS', 'FZ', 'DZ', 'RA', 'SN', 'SG', 'IC', 'PL', 'GR', 'GS', 'UP', 'BR', 'FG', 'FU', 'VA', 'DU', 'SA', 'HZ', 'PY', 'PO', 'SQ', 'FC', 'SS', 'DS']\n",
    "multiple_precipitation_attributes = ['PLRA', 'RASN', 'SNRA', 'RAPL', 'RASNPL', 'SNPL', 'DZSN', 'PLSN', 'RAGR']\n",
    "\n",
    "def encode_weather(df):\n",
    "    for weather_type in weather_types:\n",
    "        df[weather_type] = np.zeros(len(df))\n",
    "    \n",
    "    for weather_type in weather_types:\n",
    "        df.loc[:, weather_type] = np.zeros(len(df))\n",
    "    \n",
    "    for index, row in df.iterrows():\n",
    "        intensities = ast.literal_eval(row['weather_intensity'])\n",
    "        for i in range(len(intensities)):\n",
    "            for cat in ['weather_precipitation', 'weather_desc', 'weather_obscuration', 'weather_other']:\n",
    "                attribute = ast.literal_eval(row[cat])[i]\n",
    "                if attribute:\n",
    "                    df.loc[index, attribute] = intensities_map[intensities[i]]\n",
    "                    \n",
    "    # Cleaning up codes with multiple precipitation attributes\n",
    "    for weather_type in multiple_precipitation_attributes:\n",
    "        col = df[weather_type].dropna()\n",
    "        for i in range(0, len(weather_type), 2):\n",
    "            attribute = weather_type[i : i + 2]\n",
    "            for index in col.index:\n",
    "                df.loc[index, attribute] = col[index]\n",
    "                \n",
    "    \n",
    "    df.drop(multiple_precipitation_attributes, axis=1, inplace=True)"
   ]
  },
  {
   "cell_type": "code",
   "execution_count": 188,
   "id": "d8208537-91cb-4d28-985d-a5564e6f0b4c",
   "metadata": {},
   "outputs": [
    {
     "data": {
      "text/html": [
       "<div>\n",
       "<style scoped>\n",
       "    .dataframe tbody tr th:only-of-type {\n",
       "        vertical-align: middle;\n",
       "    }\n",
       "\n",
       "    .dataframe tbody tr th {\n",
       "        vertical-align: top;\n",
       "    }\n",
       "\n",
       "    .dataframe thead th {\n",
       "        text-align: right;\n",
       "    }\n",
       "</style>\n",
       "<table border=\"1\" class=\"dataframe\">\n",
       "  <thead>\n",
       "    <tr style=\"text-align: right;\">\n",
       "      <th></th>\n",
       "      <th>time</th>\n",
       "      <th>icao24</th>\n",
       "      <th>callsign</th>\n",
       "      <th>airport</th>\n",
       "      <th>runway</th>\n",
       "      <th>has_ga</th>\n",
       "      <th>n_approaches</th>\n",
       "      <th>n_rwy_approached</th>\n",
       "      <th>registration</th>\n",
       "      <th>typecode</th>\n",
       "      <th>...</th>\n",
       "      <th>VA</th>\n",
       "      <th>DU</th>\n",
       "      <th>SA</th>\n",
       "      <th>HZ</th>\n",
       "      <th>PY</th>\n",
       "      <th>PO</th>\n",
       "      <th>SQ</th>\n",
       "      <th>FC</th>\n",
       "      <th>SS</th>\n",
       "      <th>DS</th>\n",
       "    </tr>\n",
       "  </thead>\n",
       "  <tbody>\n",
       "    <tr>\n",
       "      <th>341</th>\n",
       "      <td>2019-01-06 18:50:59+00:00</td>\n",
       "      <td>ab7270</td>\n",
       "      <td>AAL750</td>\n",
       "      <td>KAUS</td>\n",
       "      <td>18L</td>\n",
       "      <td>False</td>\n",
       "      <td>1</td>\n",
       "      <td>1</td>\n",
       "      <td>N837AW</td>\n",
       "      <td>A319</td>\n",
       "      <td>...</td>\n",
       "      <td>0.0</td>\n",
       "      <td>0.0</td>\n",
       "      <td>0.0</td>\n",
       "      <td>0.0</td>\n",
       "      <td>0.0</td>\n",
       "      <td>0.0</td>\n",
       "      <td>0.0</td>\n",
       "      <td>0.0</td>\n",
       "      <td>0.0</td>\n",
       "      <td>0.0</td>\n",
       "    </tr>\n",
       "    <tr>\n",
       "      <th>342</th>\n",
       "      <td>2019-01-06 18:53:45+00:00</td>\n",
       "      <td>abf8e0</td>\n",
       "      <td>SWA5180</td>\n",
       "      <td>KAUS</td>\n",
       "      <td>18L</td>\n",
       "      <td>False</td>\n",
       "      <td>1</td>\n",
       "      <td>1</td>\n",
       "      <td>N8701Q</td>\n",
       "      <td>B38M</td>\n",
       "      <td>...</td>\n",
       "      <td>0.0</td>\n",
       "      <td>0.0</td>\n",
       "      <td>0.0</td>\n",
       "      <td>0.0</td>\n",
       "      <td>0.0</td>\n",
       "      <td>0.0</td>\n",
       "      <td>0.0</td>\n",
       "      <td>0.0</td>\n",
       "      <td>0.0</td>\n",
       "      <td>0.0</td>\n",
       "    </tr>\n",
       "    <tr>\n",
       "      <th>343</th>\n",
       "      <td>2019-01-06 18:54:58+00:00</td>\n",
       "      <td>a4c865</td>\n",
       "      <td>UAL422K</td>\n",
       "      <td>KAUS</td>\n",
       "      <td>18R</td>\n",
       "      <td>False</td>\n",
       "      <td>1</td>\n",
       "      <td>1</td>\n",
       "      <td>N407UA</td>\n",
       "      <td>A320</td>\n",
       "      <td>...</td>\n",
       "      <td>0.0</td>\n",
       "      <td>0.0</td>\n",
       "      <td>0.0</td>\n",
       "      <td>0.0</td>\n",
       "      <td>0.0</td>\n",
       "      <td>0.0</td>\n",
       "      <td>0.0</td>\n",
       "      <td>0.0</td>\n",
       "      <td>0.0</td>\n",
       "      <td>0.0</td>\n",
       "    </tr>\n",
       "    <tr>\n",
       "      <th>360</th>\n",
       "      <td>2019-01-06 20:33:50+00:00</td>\n",
       "      <td>ab6eb9</td>\n",
       "      <td>AAL644</td>\n",
       "      <td>KAUS</td>\n",
       "      <td>18L</td>\n",
       "      <td>False</td>\n",
       "      <td>1</td>\n",
       "      <td>1</td>\n",
       "      <td>N836AW</td>\n",
       "      <td>A319</td>\n",
       "      <td>...</td>\n",
       "      <td>0.0</td>\n",
       "      <td>0.0</td>\n",
       "      <td>0.0</td>\n",
       "      <td>0.0</td>\n",
       "      <td>0.0</td>\n",
       "      <td>0.0</td>\n",
       "      <td>0.0</td>\n",
       "      <td>0.0</td>\n",
       "      <td>0.0</td>\n",
       "      <td>0.0</td>\n",
       "    </tr>\n",
       "    <tr>\n",
       "      <th>362</th>\n",
       "      <td>2019-01-06 20:41:54+00:00</td>\n",
       "      <td>abdc91</td>\n",
       "      <td>ASH6150</td>\n",
       "      <td>KAUS</td>\n",
       "      <td>18R</td>\n",
       "      <td>False</td>\n",
       "      <td>1</td>\n",
       "      <td>1</td>\n",
       "      <td>N86311</td>\n",
       "      <td>E75L</td>\n",
       "      <td>...</td>\n",
       "      <td>0.0</td>\n",
       "      <td>0.0</td>\n",
       "      <td>0.0</td>\n",
       "      <td>0.0</td>\n",
       "      <td>0.0</td>\n",
       "      <td>0.0</td>\n",
       "      <td>0.0</td>\n",
       "      <td>0.0</td>\n",
       "      <td>0.0</td>\n",
       "      <td>0.0</td>\n",
       "    </tr>\n",
       "    <tr>\n",
       "      <th>...</th>\n",
       "      <td>...</td>\n",
       "      <td>...</td>\n",
       "      <td>...</td>\n",
       "      <td>...</td>\n",
       "      <td>...</td>\n",
       "      <td>...</td>\n",
       "      <td>...</td>\n",
       "      <td>...</td>\n",
       "      <td>...</td>\n",
       "      <td>...</td>\n",
       "      <td>...</td>\n",
       "      <td>...</td>\n",
       "      <td>...</td>\n",
       "      <td>...</td>\n",
       "      <td>...</td>\n",
       "      <td>...</td>\n",
       "      <td>...</td>\n",
       "      <td>...</td>\n",
       "      <td>...</td>\n",
       "      <td>...</td>\n",
       "      <td>...</td>\n",
       "    </tr>\n",
       "    <tr>\n",
       "      <th>8962323</th>\n",
       "      <td>2019-07-15 20:42:46+00:00</td>\n",
       "      <td>a5d007</td>\n",
       "      <td>ASA788</td>\n",
       "      <td>KMSY</td>\n",
       "      <td>11</td>\n",
       "      <td>False</td>\n",
       "      <td>1</td>\n",
       "      <td>1</td>\n",
       "      <td>N474AS</td>\n",
       "      <td>B739</td>\n",
       "      <td>...</td>\n",
       "      <td>0.0</td>\n",
       "      <td>0.0</td>\n",
       "      <td>0.0</td>\n",
       "      <td>0.0</td>\n",
       "      <td>0.0</td>\n",
       "      <td>0.0</td>\n",
       "      <td>0.0</td>\n",
       "      <td>0.0</td>\n",
       "      <td>0.0</td>\n",
       "      <td>0.0</td>\n",
       "    </tr>\n",
       "    <tr>\n",
       "      <th>8962333</th>\n",
       "      <td>2019-07-15 21:13:34+00:00</td>\n",
       "      <td>a81163</td>\n",
       "      <td>NKS6504</td>\n",
       "      <td>KMSY</td>\n",
       "      <td>11</td>\n",
       "      <td>False</td>\n",
       "      <td>1</td>\n",
       "      <td>1</td>\n",
       "      <td>N619NK</td>\n",
       "      <td>A320</td>\n",
       "      <td>...</td>\n",
       "      <td>0.0</td>\n",
       "      <td>0.0</td>\n",
       "      <td>0.0</td>\n",
       "      <td>0.0</td>\n",
       "      <td>0.0</td>\n",
       "      <td>0.0</td>\n",
       "      <td>0.0</td>\n",
       "      <td>0.0</td>\n",
       "      <td>0.0</td>\n",
       "      <td>0.0</td>\n",
       "    </tr>\n",
       "    <tr>\n",
       "      <th>8962492</th>\n",
       "      <td>2019-07-16 20:31:17+00:00</td>\n",
       "      <td>a7f762</td>\n",
       "      <td>NKS1070</td>\n",
       "      <td>KMSY</td>\n",
       "      <td>11</td>\n",
       "      <td>False</td>\n",
       "      <td>1</td>\n",
       "      <td>1</td>\n",
       "      <td>N612NK</td>\n",
       "      <td>A320</td>\n",
       "      <td>...</td>\n",
       "      <td>0.0</td>\n",
       "      <td>0.0</td>\n",
       "      <td>0.0</td>\n",
       "      <td>0.0</td>\n",
       "      <td>0.0</td>\n",
       "      <td>0.0</td>\n",
       "      <td>0.0</td>\n",
       "      <td>0.0</td>\n",
       "      <td>0.0</td>\n",
       "      <td>0.0</td>\n",
       "    </tr>\n",
       "    <tr>\n",
       "      <th>8962493</th>\n",
       "      <td>2019-07-16 20:35:50+00:00</td>\n",
       "      <td>a726fb</td>\n",
       "      <td>ASA788</td>\n",
       "      <td>KMSY</td>\n",
       "      <td>11</td>\n",
       "      <td>False</td>\n",
       "      <td>1</td>\n",
       "      <td>1</td>\n",
       "      <td>N560AS</td>\n",
       "      <td>B738</td>\n",
       "      <td>...</td>\n",
       "      <td>0.0</td>\n",
       "      <td>0.0</td>\n",
       "      <td>0.0</td>\n",
       "      <td>0.0</td>\n",
       "      <td>0.0</td>\n",
       "      <td>0.0</td>\n",
       "      <td>0.0</td>\n",
       "      <td>0.0</td>\n",
       "      <td>0.0</td>\n",
       "      <td>0.0</td>\n",
       "    </tr>\n",
       "    <tr>\n",
       "      <th>8962498</th>\n",
       "      <td>2019-07-16 21:04:25+00:00</td>\n",
       "      <td>a19b72</td>\n",
       "      <td>SWA48</td>\n",
       "      <td>KMSY</td>\n",
       "      <td>11</td>\n",
       "      <td>False</td>\n",
       "      <td>1</td>\n",
       "      <td>1</td>\n",
       "      <td>N202WN</td>\n",
       "      <td>B737</td>\n",
       "      <td>...</td>\n",
       "      <td>0.0</td>\n",
       "      <td>0.0</td>\n",
       "      <td>0.0</td>\n",
       "      <td>0.0</td>\n",
       "      <td>0.0</td>\n",
       "      <td>0.0</td>\n",
       "      <td>0.0</td>\n",
       "      <td>0.0</td>\n",
       "      <td>0.0</td>\n",
       "      <td>0.0</td>\n",
       "    </tr>\n",
       "  </tbody>\n",
       "</table>\n",
       "<p>421587 rows × 61 columns</p>\n",
       "</div>"
      ],
      "text/plain": [
       "                              time  icao24 callsign airport runway  has_ga  \\\n",
       "341      2019-01-06 18:50:59+00:00  ab7270   AAL750    KAUS    18L   False   \n",
       "342      2019-01-06 18:53:45+00:00  abf8e0  SWA5180    KAUS    18L   False   \n",
       "343      2019-01-06 18:54:58+00:00  a4c865  UAL422K    KAUS    18R   False   \n",
       "360      2019-01-06 20:33:50+00:00  ab6eb9   AAL644    KAUS    18L   False   \n",
       "362      2019-01-06 20:41:54+00:00  abdc91  ASH6150    KAUS    18R   False   \n",
       "...                            ...     ...      ...     ...    ...     ...   \n",
       "8962323  2019-07-15 20:42:46+00:00  a5d007   ASA788    KMSY     11   False   \n",
       "8962333  2019-07-15 21:13:34+00:00  a81163  NKS6504    KMSY     11   False   \n",
       "8962492  2019-07-16 20:31:17+00:00  a7f762  NKS1070    KMSY     11   False   \n",
       "8962493  2019-07-16 20:35:50+00:00  a726fb   ASA788    KMSY     11   False   \n",
       "8962498  2019-07-16 21:04:25+00:00  a19b72    SWA48    KMSY     11   False   \n",
       "\n",
       "         n_approaches  n_rwy_approached registration typecode  ...   VA   DU  \\\n",
       "341                 1                 1       N837AW     A319  ...  0.0  0.0   \n",
       "342                 1                 1       N8701Q     B38M  ...  0.0  0.0   \n",
       "343                 1                 1       N407UA     A320  ...  0.0  0.0   \n",
       "360                 1                 1       N836AW     A319  ...  0.0  0.0   \n",
       "362                 1                 1       N86311     E75L  ...  0.0  0.0   \n",
       "...               ...               ...          ...      ...  ...  ...  ...   \n",
       "8962323             1                 1       N474AS     B739  ...  0.0  0.0   \n",
       "8962333             1                 1       N619NK     A320  ...  0.0  0.0   \n",
       "8962492             1                 1       N612NK     A320  ...  0.0  0.0   \n",
       "8962493             1                 1       N560AS     B738  ...  0.0  0.0   \n",
       "8962498             1                 1       N202WN     B737  ...  0.0  0.0   \n",
       "\n",
       "          SA   HZ   PY   PO   SQ   FC   SS   DS  \n",
       "341      0.0  0.0  0.0  0.0  0.0  0.0  0.0  0.0  \n",
       "342      0.0  0.0  0.0  0.0  0.0  0.0  0.0  0.0  \n",
       "343      0.0  0.0  0.0  0.0  0.0  0.0  0.0  0.0  \n",
       "360      0.0  0.0  0.0  0.0  0.0  0.0  0.0  0.0  \n",
       "362      0.0  0.0  0.0  0.0  0.0  0.0  0.0  0.0  \n",
       "...      ...  ...  ...  ...  ...  ...  ...  ...  \n",
       "8962323  0.0  0.0  0.0  0.0  0.0  0.0  0.0  0.0  \n",
       "8962333  0.0  0.0  0.0  0.0  0.0  0.0  0.0  0.0  \n",
       "8962492  0.0  0.0  0.0  0.0  0.0  0.0  0.0  0.0  \n",
       "8962493  0.0  0.0  0.0  0.0  0.0  0.0  0.0  0.0  \n",
       "8962498  0.0  0.0  0.0  0.0  0.0  0.0  0.0  0.0  \n",
       "\n",
       "[421587 rows x 61 columns]"
      ]
     },
     "execution_count": 188,
     "metadata": {},
     "output_type": "execute_result"
    }
   ],
   "source": [
    "# Some records are missing, imputation infeasible :(\n",
    "df = df.dropna()\n",
    "encode_weather(df)\n",
    "df"
   ]
  },
  {
   "cell_type": "markdown",
   "id": "f0ea1a69-edd0-4c93-a602-4c257be9a34e",
   "metadata": {
    "tags": []
   },
   "source": [
    "## Feature Engineering"
   ]
  },
  {
   "cell_type": "markdown",
   "id": "ab683850-4622-4a39-98f7-27af111837e0",
   "metadata": {},
   "source": [
    "One-hot encoding icao aircraft type ([link](https://skybrary.aero/articles/aircraft-description-icao-doc-8643)). Converting wake turbulence category to a numerical feature. Higher values mean more turbulence."
   ]
  },
  {
   "cell_type": "code",
   "execution_count": 189,
   "id": "1491e46a-53ea-48d4-97f9-7dae13ba3b6d",
   "metadata": {
    "tags": []
   },
   "outputs": [],
   "source": [
    "df = df.join(pd.get_dummies(df['icaoaircrafttype']))\n",
    "df = df.join(pd.get_dummies(df['airport_region']))\n",
    "df = df.join(pd.get_dummies(df['operator_region']), lsuffix='_airport_region', rsuffix='_operator_region')\n",
    "df['wtc'] = df['wtc'].map({'H': 3, 'M': 2, 'L/M' : 1.5, 'L' : 1})"
   ]
  },
  {
   "cell_type": "markdown",
   "id": "8a9a0a32-e408-4850-942e-e08033d8c228",
   "metadata": {},
   "source": [
    "Crosswinds make landing difficult and thus may be a good predictor of go-arounds. Runway numberings are lettered according to the heading, rounded to the nearest 10 degrees. Thus, below, I calculate the angle between the wind and the runway to incorporate whether the pilot is landing into a crosswind."
   ]
  },
  {
   "cell_type": "code",
   "execution_count": 190,
   "id": "1532209a-659c-4554-8d8e-cdcf79245358",
   "metadata": {},
   "outputs": [],
   "source": [
    "import re\n",
    "\n",
    "diffs = []\n",
    "\n",
    "rwy_series = df['runway'].astype(str)\n",
    "for idx, val in df['runway'].astype(str).items():\n",
    "    runway_dir = int(re.sub(r'[A-Z]', \"\", val)) * 10\n",
    "    diff = runway_dir - df.loc[idx, 'wind_dir_deg']\n",
    "    \n",
    "    if diff < -180:\n",
    "        diff += 360\n",
    "    elif diff < 0:\n",
    "        diff += 180\n",
    "    elif diff > 180:\n",
    "        diff -= 180\n",
    "        \n",
    "    diffs.append(diff)\n",
    "    \n",
    "df['runway_wind_angle'] = diffs"
   ]
  },
  {
   "cell_type": "markdown",
   "id": "7ff41d4e-51fe-413c-a6a8-1b651123963a",
   "metadata": {},
   "source": [
    "## Undersampling to Rectify Class Imbalance"
   ]
  },
  {
   "cell_type": "code",
   "execution_count": null,
   "id": "bd9273a8-ae5a-4221-8ae9-5ec283f935cf",
   "metadata": {},
   "outputs": [],
   "source": [
    "df.columns"
   ]
  },
  {
   "cell_type": "code",
   "execution_count": 197,
   "id": "f20bb8f9-bb8e-4f47-a7f3-5bdb2ca4eabc",
   "metadata": {},
   "outputs": [],
   "source": [
    "from sklearn.model_selection import train_test_split\n",
    "from imblearn.under_sampling import RandomUnderSampler\n",
    "from imblearn.over_sampling import RandomOverSampler\n",
    "from imblearn.over_sampling import SMOTE\n",
    "from imblearn.over_sampling import ADASYN\n",
    "\n",
    "\n",
    "X = df.drop(['time', 'icao24', 'callsign', 'airport', 'runway', 'has_ga',\n",
    "       'n_approaches', 'n_rwy_approached', 'registration', 'typecode',\n",
    "       'icaoaircrafttype', 'airport_country', 'airport_region', 'operator_country',\n",
    "       'operator_region', 'weather_intensity', 'weather_precipitation', 'weather_desc',\n",
    "       'weather_obscuration', 'weather_other'], axis=1)\n",
    "y = df['has_ga']\n",
    "\n",
    "sampler = RandomUnderSampler(sampling_strategy=0.5, random_state=21)\n",
    "X_oversampled, y_oversampled = sampler.fit_resample(X, y)\n",
    "\n",
    "X_train, X_test, y_train, y_test = train_test_split(X_oversampled, y_oversampled, test_size=0.2, random_state=21)"
   ]
  },
  {
   "cell_type": "code",
   "execution_count": 198,
   "id": "9e82308e-0cc5-4e49-8d5c-5e5288c8fff5",
   "metadata": {},
   "outputs": [
    {
     "data": {
      "text/html": [
       "<style>#sk-container-id-15 {color: black;background-color: white;}#sk-container-id-15 pre{padding: 0;}#sk-container-id-15 div.sk-toggleable {background-color: white;}#sk-container-id-15 label.sk-toggleable__label {cursor: pointer;display: block;width: 100%;margin-bottom: 0;padding: 0.3em;box-sizing: border-box;text-align: center;}#sk-container-id-15 label.sk-toggleable__label-arrow:before {content: \"▸\";float: left;margin-right: 0.25em;color: #696969;}#sk-container-id-15 label.sk-toggleable__label-arrow:hover:before {color: black;}#sk-container-id-15 div.sk-estimator:hover label.sk-toggleable__label-arrow:before {color: black;}#sk-container-id-15 div.sk-toggleable__content {max-height: 0;max-width: 0;overflow: hidden;text-align: left;background-color: #f0f8ff;}#sk-container-id-15 div.sk-toggleable__content pre {margin: 0.2em;color: black;border-radius: 0.25em;background-color: #f0f8ff;}#sk-container-id-15 input.sk-toggleable__control:checked~div.sk-toggleable__content {max-height: 200px;max-width: 100%;overflow: auto;}#sk-container-id-15 input.sk-toggleable__control:checked~label.sk-toggleable__label-arrow:before {content: \"▾\";}#sk-container-id-15 div.sk-estimator input.sk-toggleable__control:checked~label.sk-toggleable__label {background-color: #d4ebff;}#sk-container-id-15 div.sk-label input.sk-toggleable__control:checked~label.sk-toggleable__label {background-color: #d4ebff;}#sk-container-id-15 input.sk-hidden--visually {border: 0;clip: rect(1px 1px 1px 1px);clip: rect(1px, 1px, 1px, 1px);height: 1px;margin: -1px;overflow: hidden;padding: 0;position: absolute;width: 1px;}#sk-container-id-15 div.sk-estimator {font-family: monospace;background-color: #f0f8ff;border: 1px dotted black;border-radius: 0.25em;box-sizing: border-box;margin-bottom: 0.5em;}#sk-container-id-15 div.sk-estimator:hover {background-color: #d4ebff;}#sk-container-id-15 div.sk-parallel-item::after {content: \"\";width: 100%;border-bottom: 1px solid gray;flex-grow: 1;}#sk-container-id-15 div.sk-label:hover label.sk-toggleable__label {background-color: #d4ebff;}#sk-container-id-15 div.sk-serial::before {content: \"\";position: absolute;border-left: 1px solid gray;box-sizing: border-box;top: 0;bottom: 0;left: 50%;z-index: 0;}#sk-container-id-15 div.sk-serial {display: flex;flex-direction: column;align-items: center;background-color: white;padding-right: 0.2em;padding-left: 0.2em;position: relative;}#sk-container-id-15 div.sk-item {position: relative;z-index: 1;}#sk-container-id-15 div.sk-parallel {display: flex;align-items: stretch;justify-content: center;background-color: white;position: relative;}#sk-container-id-15 div.sk-item::before, #sk-container-id-15 div.sk-parallel-item::before {content: \"\";position: absolute;border-left: 1px solid gray;box-sizing: border-box;top: 0;bottom: 0;left: 50%;z-index: -1;}#sk-container-id-15 div.sk-parallel-item {display: flex;flex-direction: column;z-index: 1;position: relative;background-color: white;}#sk-container-id-15 div.sk-parallel-item:first-child::after {align-self: flex-end;width: 50%;}#sk-container-id-15 div.sk-parallel-item:last-child::after {align-self: flex-start;width: 50%;}#sk-container-id-15 div.sk-parallel-item:only-child::after {width: 0;}#sk-container-id-15 div.sk-dashed-wrapped {border: 1px dashed gray;margin: 0 0.4em 0.5em 0.4em;box-sizing: border-box;padding-bottom: 0.4em;background-color: white;}#sk-container-id-15 div.sk-label label {font-family: monospace;font-weight: bold;display: inline-block;line-height: 1.2em;}#sk-container-id-15 div.sk-label-container {text-align: center;}#sk-container-id-15 div.sk-container {/* jupyter's `normalize.less` sets `[hidden] { display: none; }` but bootstrap.min.css set `[hidden] { display: none !important; }` so we also need the `!important` here to be able to override the default hidden behavior on the sphinx rendered scikit-learn.org. See: https://github.com/scikit-learn/scikit-learn/issues/21755 */display: inline-block !important;position: relative;}#sk-container-id-15 div.sk-text-repr-fallback {display: none;}</style><div id=\"sk-container-id-15\" class=\"sk-top-container\"><div class=\"sk-text-repr-fallback\"><pre>AdaBoostClassifier(estimator=DecisionTreeClassifier(max_depth=1),\n",
       "                   n_estimators=1000)</pre><b>In a Jupyter environment, please rerun this cell to show the HTML representation or trust the notebook. <br />On GitHub, the HTML representation is unable to render, please try loading this page with nbviewer.org.</b></div><div class=\"sk-container\" hidden><div class=\"sk-item sk-dashed-wrapped\"><div class=\"sk-label-container\"><div class=\"sk-label sk-toggleable\"><input class=\"sk-toggleable__control sk-hidden--visually\" id=\"sk-estimator-id-31\" type=\"checkbox\" ><label for=\"sk-estimator-id-31\" class=\"sk-toggleable__label sk-toggleable__label-arrow\">AdaBoostClassifier</label><div class=\"sk-toggleable__content\"><pre>AdaBoostClassifier(estimator=DecisionTreeClassifier(max_depth=1),\n",
       "                   n_estimators=1000)</pre></div></div></div><div class=\"sk-parallel\"><div class=\"sk-parallel-item\"><div class=\"sk-item\"><div class=\"sk-label-container\"><div class=\"sk-label sk-toggleable\"><input class=\"sk-toggleable__control sk-hidden--visually\" id=\"sk-estimator-id-32\" type=\"checkbox\" ><label for=\"sk-estimator-id-32\" class=\"sk-toggleable__label sk-toggleable__label-arrow\">estimator: DecisionTreeClassifier</label><div class=\"sk-toggleable__content\"><pre>DecisionTreeClassifier(max_depth=1)</pre></div></div></div><div class=\"sk-serial\"><div class=\"sk-item\"><div class=\"sk-estimator sk-toggleable\"><input class=\"sk-toggleable__control sk-hidden--visually\" id=\"sk-estimator-id-33\" type=\"checkbox\" ><label for=\"sk-estimator-id-33\" class=\"sk-toggleable__label sk-toggleable__label-arrow\">DecisionTreeClassifier</label><div class=\"sk-toggleable__content\"><pre>DecisionTreeClassifier(max_depth=1)</pre></div></div></div></div></div></div></div></div></div></div>"
      ],
      "text/plain": [
       "AdaBoostClassifier(estimator=DecisionTreeClassifier(max_depth=1),\n",
       "                   n_estimators=1000)"
      ]
     },
     "execution_count": 198,
     "metadata": {},
     "output_type": "execute_result"
    }
   ],
   "source": [
    "from sklearn.ensemble import AdaBoostClassifier\n",
    "from sklearn.tree import DecisionTreeClassifier\n",
    "\n",
    "base_estimator = DecisionTreeClassifier(max_depth=1)\n",
    "clf = AdaBoostClassifier(n_estimators=1000, estimator=base_estimator)\n",
    "clf.fit(X_train, y_train)"
   ]
  },
  {
   "cell_type": "code",
   "execution_count": 199,
   "id": "81c30794-db65-4674-bd47-6dc1aaf238c9",
   "metadata": {},
   "outputs": [
    {
     "data": {
      "text/plain": [
       "0.6813380281690141"
      ]
     },
     "execution_count": 199,
     "metadata": {},
     "output_type": "execute_result"
    }
   ],
   "source": [
    "clf.score(X_test, y_test)"
   ]
  },
  {
   "cell_type": "code",
   "execution_count": 202,
   "id": "07e49375-dbae-409f-a1ea-f0c45b07de6d",
   "metadata": {},
   "outputs": [
    {
     "data": {
      "image/png": "[encoded data removed]",
      "text/plain": [
       "<Figure size 2000x1000 with 1 Axes>"
      ]
     },
     "metadata": {},
     "output_type": "display_data"
    }
   ],
   "source": [
    "fig, ax = plt.subplots()\n",
    "plt.barh(np.arange(len(clf.feature_importances_)), clf.feature_importances_, label=X.columns)\n",
    "ax.set_yticks(np.arange(len(clf.feature_importances_)), labels=X.columns, fontsize=8)\n",
    "plt.rcParams[\"figure.figsize\"] = (20,10);"
   ]
  },
  {
   "cell_type": "code",
   "execution_count": 203,
   "id": "0648e11f-595e-4238-8424-2c045d1fa42c",
   "metadata": {},
   "outputs": [
    {
     "data": {
      "text/plain": [
       "0.5951556552119728"
      ]
     },
     "execution_count": 203,
     "metadata": {},
     "output_type": "execute_result"
    }
   ],
   "source": [
    "from sklearn.metrics import roc_auc_score\n",
    "\n",
    "roc_auc_score(y_test, y_pred)"
   ]
  },
  {
   "cell_type": "markdown",
   "id": "88980fba-9b77-41dd-8e78-a937a99397fc",
   "metadata": {},
   "source": [
    "## Random Forest"
   ]
  },
  {
   "cell_type": "code",
   "execution_count": 287,
   "id": "da20ef79-c39d-4df8-a794-a879d38d0030",
   "metadata": {},
   "outputs": [],
   "source": [
    "X = df[['glide_slope_angle', 'rwy_length', 'wind_speed_knts', 'wind_gust_knts','visibility_m', 'temperature_deg','press_sea_level_p',\n",
    "        'press_p', 'wtc','runway_wind_angle']]\n",
    "y = df['has_ga']\n",
    "\n",
    "sampler = RandomUnderSampler(sampling_strategy=0.5, random_state=21)\n",
    "X_oversampled, y_oversampled = sampler.fit_resample(X, y)\n",
    "\n",
    "X_train, X_test, y_train, y_test = train_test_split(X_oversampled, y_oversampled, test_size=0.2, random_state=21)"
   ]
  },
  {
   "cell_type": "code",
   "execution_count": 288,
   "id": "9cb61044-a0d4-4c54-94b8-49479a5ca001",
   "metadata": {},
   "outputs": [
    {
     "data": {
      "text/html": [
       "<style>#sk-container-id-28 {color: black;background-color: white;}#sk-container-id-28 pre{padding: 0;}#sk-container-id-28 div.sk-toggleable {background-color: white;}#sk-container-id-28 label.sk-toggleable__label {cursor: pointer;display: block;width: 100%;margin-bottom: 0;padding: 0.3em;box-sizing: border-box;text-align: center;}#sk-container-id-28 label.sk-toggleable__label-arrow:before {content: \"▸\";float: left;margin-right: 0.25em;color: #696969;}#sk-container-id-28 label.sk-toggleable__label-arrow:hover:before {color: black;}#sk-container-id-28 div.sk-estimator:hover label.sk-toggleable__label-arrow:before {color: black;}#sk-container-id-28 div.sk-toggleable__content {max-height: 0;max-width: 0;overflow: hidden;text-align: left;background-color: #f0f8ff;}#sk-container-id-28 div.sk-toggleable__content pre {margin: 0.2em;color: black;border-radius: 0.25em;background-color: #f0f8ff;}#sk-container-id-28 input.sk-toggleable__control:checked~div.sk-toggleable__content {max-height: 200px;max-width: 100%;overflow: auto;}#sk-container-id-28 input.sk-toggleable__control:checked~label.sk-toggleable__label-arrow:before {content: \"▾\";}#sk-container-id-28 div.sk-estimator input.sk-toggleable__control:checked~label.sk-toggleable__label {background-color: #d4ebff;}#sk-container-id-28 div.sk-label input.sk-toggleable__control:checked~label.sk-toggleable__label {background-color: #d4ebff;}#sk-container-id-28 input.sk-hidden--visually {border: 0;clip: rect(1px 1px 1px 1px);clip: rect(1px, 1px, 1px, 1px);height: 1px;margin: -1px;overflow: hidden;padding: 0;position: absolute;width: 1px;}#sk-container-id-28 div.sk-estimator {font-family: monospace;background-color: #f0f8ff;border: 1px dotted black;border-radius: 0.25em;box-sizing: border-box;margin-bottom: 0.5em;}#sk-container-id-28 div.sk-estimator:hover {background-color: #d4ebff;}#sk-container-id-28 div.sk-parallel-item::after {content: \"\";width: 100%;border-bottom: 1px solid gray;flex-grow: 1;}#sk-container-id-28 div.sk-label:hover label.sk-toggleable__label {background-color: #d4ebff;}#sk-container-id-28 div.sk-serial::before {content: \"\";position: absolute;border-left: 1px solid gray;box-sizing: border-box;top: 0;bottom: 0;left: 50%;z-index: 0;}#sk-container-id-28 div.sk-serial {display: flex;flex-direction: column;align-items: center;background-color: white;padding-right: 0.2em;padding-left: 0.2em;position: relative;}#sk-container-id-28 div.sk-item {position: relative;z-index: 1;}#sk-container-id-28 div.sk-parallel {display: flex;align-items: stretch;justify-content: center;background-color: white;position: relative;}#sk-container-id-28 div.sk-item::before, #sk-container-id-28 div.sk-parallel-item::before {content: \"\";position: absolute;border-left: 1px solid gray;box-sizing: border-box;top: 0;bottom: 0;left: 50%;z-index: -1;}#sk-container-id-28 div.sk-parallel-item {display: flex;flex-direction: column;z-index: 1;position: relative;background-color: white;}#sk-container-id-28 div.sk-parallel-item:first-child::after {align-self: flex-end;width: 50%;}#sk-container-id-28 div.sk-parallel-item:last-child::after {align-self: flex-start;width: 50%;}#sk-container-id-28 div.sk-parallel-item:only-child::after {width: 0;}#sk-container-id-28 div.sk-dashed-wrapped {border: 1px dashed gray;margin: 0 0.4em 0.5em 0.4em;box-sizing: border-box;padding-bottom: 0.4em;background-color: white;}#sk-container-id-28 div.sk-label label {font-family: monospace;font-weight: bold;display: inline-block;line-height: 1.2em;}#sk-container-id-28 div.sk-label-container {text-align: center;}#sk-container-id-28 div.sk-container {/* jupyter's `normalize.less` sets `[hidden] { display: none; }` but bootstrap.min.css set `[hidden] { display: none !important; }` so we also need the `!important` here to be able to override the default hidden behavior on the sphinx rendered scikit-learn.org. See: https://github.com/scikit-learn/scikit-learn/issues/21755 */display: inline-block !important;position: relative;}#sk-container-id-28 div.sk-text-repr-fallback {display: none;}</style><div id=\"sk-container-id-28\" class=\"sk-top-container\"><div class=\"sk-text-repr-fallback\"><pre>RandomForestClassifier(random_state=21)</pre><b>In a Jupyter environment, please rerun this cell to show the HTML representation or trust the notebook. <br />On GitHub, the HTML representation is unable to render, please try loading this page with nbviewer.org.</b></div><div class=\"sk-container\" hidden><div class=\"sk-item\"><div class=\"sk-estimator sk-toggleable\"><input class=\"sk-toggleable__control sk-hidden--visually\" id=\"sk-estimator-id-54\" type=\"checkbox\" checked><label for=\"sk-estimator-id-54\" class=\"sk-toggleable__label sk-toggleable__label-arrow\">RandomForestClassifier</label><div class=\"sk-toggleable__content\"><pre>RandomForestClassifier(random_state=21)</pre></div></div></div></div></div>"
      ],
      "text/plain": [
       "RandomForestClassifier(random_state=21)"
      ]
     },
     "execution_count": 288,
     "metadata": {},
     "output_type": "execute_result"
    }
   ],
   "source": [
    "from sklearn.ensemble import RandomForestClassifier\n",
    "\n",
    "clf = RandomForestClassifier(random_state=21)\n",
    "clf.fit(X_train, y_train)"
   ]
  },
  {
   "cell_type": "code",
   "execution_count": 289,
   "id": "08b070e2-d572-473f-b68b-b584f095a21e",
   "metadata": {},
   "outputs": [
    {
     "data": {
      "text/plain": [
       "0.6892605633802817"
      ]
     },
     "execution_count": 289,
     "metadata": {},
     "output_type": "execute_result"
    }
   ],
   "source": [
    "clf.score(X_test, y_test)"
   ]
  },
  {
   "cell_type": "code",
   "execution_count": 290,
   "id": "e08c1234-cd9f-4abc-a98b-ff828a381624",
   "metadata": {},
   "outputs": [
    {
     "data": {
      "text/plain": [
       "array([0.01762285, 0.13648444, 0.10737066, 0.12087638, 0.05240336,\n",
       "       0.14935719, 0.15355447, 0.13138268, 0.02411503, 0.10683295])"
      ]
     },
     "execution_count": 290,
     "metadata": {},
     "output_type": "execute_result"
    }
   ],
   "source": [
    "clf.feature_importances_"
   ]
  },
  {
   "cell_type": "code",
   "execution_count": 291,
   "id": "081950da-b700-45dd-997b-c80578e9f003",
   "metadata": {},
   "outputs": [
    {
     "data": {
      "text/plain": [
       "Index(['glide_slope_angle', 'rwy_length', 'wind_speed_knts', 'wind_gust_knts',\n",
       "       'visibility_m', 'temperature_deg', 'press_sea_level_p', 'press_p',\n",
       "       'wtc', 'runway_wind_angle'],\n",
       "      dtype='object')"
      ]
     },
     "execution_count": 291,
     "metadata": {},
     "output_type": "execute_result"
    }
   ],
   "source": [
    "X.columns"
   ]
  },
  {
   "cell_type": "code",
   "execution_count": 292,
   "id": "cede6a74-73ef-448c-81d7-00ab39c66466",
   "metadata": {},
   "outputs": [
    {
     "data": {
      "text/plain": [
       "0.6043541742712625"
      ]
     },
     "execution_count": 292,
     "metadata": {},
     "output_type": "execute_result"
    },
    {
     "name": "stdout",
     "output_type": "stream",
     "text": [
      "[CV] END bootstrap=False, max_depth=50, min_samples_leaf=4, min_samples_split=10, n_estimators=2000; total time=  17.1s\n",
      "[CV] END bootstrap=False, max_depth=110, min_samples_leaf=2, min_samples_split=2, n_estimators=1400; total time=  15.1s\n",
      "[CV] END bootstrap=False, max_depth=70, min_samples_leaf=4, min_samples_split=2, n_estimators=1200; total time=  10.2s\n",
      "[CV] END bootstrap=False, max_depth=50, min_samples_leaf=4, min_samples_split=5, n_estimators=2000; total time=  17.5s\n",
      "[CV] END bootstrap=False, max_depth=100, min_samples_leaf=2, min_samples_split=10, n_estimators=2000; total time=  18.6s\n",
      "[CV] END bootstrap=False, max_depth=110, min_samples_leaf=2, min_samples_split=2, n_estimators=400; total time=   4.1s\n",
      "[CV] END bootstrap=True, max_depth=50, min_samples_leaf=2, min_samples_split=5, n_estimators=1200; total time=  10.3s\n",
      "[CV] END bootstrap=True, max_depth=100, min_samples_leaf=1, min_samples_split=2, n_estimators=1400; total time=  13.0s\n",
      "[CV] END bootstrap=False, max_depth=70, min_samples_leaf=4, min_samples_split=10, n_estimators=1200; total time=  11.4s\n",
      "[CV] END bootstrap=False, max_depth=30, min_samples_leaf=2, min_samples_split=10, n_estimators=400; total time=   4.1s\n",
      "[CV] END bootstrap=True, max_depth=30, min_samples_leaf=2, min_samples_split=5, n_estimators=1000; total time=   8.7s\n",
      "[CV] END bootstrap=False, max_depth=20, min_samples_leaf=1, min_samples_split=2, n_estimators=800; total time=   8.2s\n",
      "[CV] END bootstrap=True, max_depth=30, min_samples_leaf=4, min_samples_split=5, n_estimators=1800; total time=  13.1s\n",
      "[CV] END bootstrap=False, max_depth=50, min_samples_leaf=1, min_samples_split=2, n_estimators=400; total time=   4.4s\n",
      "[CV] END bootstrap=True, max_depth=40, min_samples_leaf=1, min_samples_split=10, n_estimators=800; total time=   6.4s\n",
      "[CV] END bootstrap=True, max_depth=90, min_samples_leaf=1, min_samples_split=10, n_estimators=1200; total time=   9.7s\n",
      "[CV] END bootstrap=False, max_depth=50, min_samples_leaf=4, min_samples_split=10, n_estimators=2000; total time=  16.5s\n",
      "[CV] END bootstrap=True, max_depth=60, min_samples_leaf=1, min_samples_split=2, n_estimators=1400; total time=  12.8s\n",
      "[CV] END bootstrap=True, max_depth=100, min_samples_leaf=1, min_samples_split=10, n_estimators=1800; total time=  13.7s\n",
      "[CV] END bootstrap=False, max_depth=50, min_samples_leaf=4, min_samples_split=5, n_estimators=2000; total time=  18.1s\n",
      "[CV] END bootstrap=True, max_depth=20, min_samples_leaf=1, min_samples_split=10, n_estimators=200; total time=   1.5s\n",
      "[CV] END bootstrap=True, max_depth=20, min_samples_leaf=1, min_samples_split=10, n_estimators=200; total time=   1.4s\n",
      "[CV] END bootstrap=True, max_depth=50, min_samples_leaf=1, min_samples_split=2, n_estimators=200; total time=   1.9s\n",
      "[CV] END bootstrap=False, max_depth=100, min_samples_leaf=2, min_samples_split=2, n_estimators=1600; total time=  15.9s\n",
      "[CV] END bootstrap=True, max_depth=40, min_samples_leaf=1, min_samples_split=2, n_estimators=1200; total time=  11.0s\n",
      "[CV] END bootstrap=False, max_depth=70, min_samples_leaf=4, min_samples_split=10, n_estimators=1000; total time=   9.9s\n",
      "[CV] END bootstrap=False, max_depth=10, min_samples_leaf=1, min_samples_split=10, n_estimators=800; total time=   5.5s\n",
      "[CV] END bootstrap=True, max_depth=90, min_samples_leaf=1, min_samples_split=5, n_estimators=600; total time=   5.2s\n",
      "[CV] END bootstrap=False, max_depth=90, min_samples_leaf=4, min_samples_split=5, n_estimators=1400; total time=  14.0s\n",
      "[CV] END bootstrap=False, max_depth=100, min_samples_leaf=1, min_samples_split=10, n_estimators=600; total time=   6.2s\n",
      "[CV] END bootstrap=True, max_depth=50, min_samples_leaf=1, min_samples_split=5, n_estimators=400; total time=   3.3s\n",
      "[CV] END bootstrap=False, max_depth=100, min_samples_leaf=4, min_samples_split=2, n_estimators=1800; total time=  16.3s\n",
      "[CV] END bootstrap=False, max_depth=50, min_samples_leaf=4, min_samples_split=2, n_estimators=400; total time=   3.7s\n",
      "[CV] END bootstrap=True, max_depth=30, min_samples_leaf=2, min_samples_split=10, n_estimators=1600; total time=  12.3s\n",
      "[CV] END bootstrap=True, max_depth=70, min_samples_leaf=1, min_samples_split=5, n_estimators=400; total time=   3.4s\n",
      "[CV] END bootstrap=True, max_depth=110, min_samples_leaf=4, min_samples_split=10, n_estimators=600; total time=   3.6s\n",
      "[CV] END bootstrap=False, max_depth=100, min_samples_leaf=2, min_samples_split=2, n_estimators=600; total time=   5.8s\n",
      "[CV] END bootstrap=True, max_depth=60, min_samples_leaf=2, min_samples_split=10, n_estimators=200; total time=   1.5s\n",
      "[CV] END bootstrap=True, max_depth=40, min_samples_leaf=2, min_samples_split=2, n_estimators=1600; total time=  13.8s\n",
      "[CV] END bootstrap=False, max_depth=100, min_samples_leaf=2, min_samples_split=10, n_estimators=800; total time=   7.3s\n",
      "[CV] END bootstrap=False, max_depth=70, min_samples_leaf=4, min_samples_split=2, n_estimators=1200; total time=  10.5s\n",
      "[CV] END bootstrap=False, max_depth=50, min_samples_leaf=4, min_samples_split=5, n_estimators=2000; total time=  17.9s\n",
      "[CV] END bootstrap=False, max_depth=100, min_samples_leaf=2, min_samples_split=10, n_estimators=2000; total time=  19.1s\n",
      "[CV] END bootstrap=True, max_depth=10, min_samples_leaf=2, min_samples_split=5, n_estimators=1400; total time=   8.8s\n",
      "[CV] END bootstrap=True, max_depth=70, min_samples_leaf=1, min_samples_split=2, n_estimators=1600; total time=  14.9s\n",
      "[CV] END bootstrap=False, max_depth=10, min_samples_leaf=1, min_samples_split=10, n_estimators=800; total time=   5.5s\n",
      "[CV] END bootstrap=True, max_depth=90, min_samples_leaf=1, min_samples_split=5, n_estimators=600; total time=   5.2s\n",
      "[CV] END bootstrap=False, max_depth=50, min_samples_leaf=4, min_samples_split=5, n_estimators=600; total time=   5.8s\n",
      "[CV] END bootstrap=True, max_depth=10, min_samples_leaf=2, min_samples_split=5, n_estimators=400; total time=   2.6s\n",
      "[CV] END bootstrap=False, max_depth=110, min_samples_leaf=4, min_samples_split=10, n_estimators=1800; total time=  16.8s\n",
      "[CV] END bootstrap=True, max_depth=30, min_samples_leaf=4, min_samples_split=5, n_estimators=1800; total time=  12.9s\n",
      "[CV] END bootstrap=False, max_depth=80, min_samples_leaf=4, min_samples_split=10, n_estimators=1400; total time=  12.5s\n",
      "[CV] END bootstrap=True, max_depth=90, min_samples_leaf=1, min_samples_split=10, n_estimators=1200; total time=   9.5s\n",
      "[CV] END bootstrap=False, max_depth=50, min_samples_leaf=4, min_samples_split=10, n_estimators=2000; total time=  16.9s\n",
      "[CV] END bootstrap=True, max_depth=10, min_samples_leaf=4, min_samples_split=2, n_estimators=1800; total time=  11.6s\n",
      "[CV] END bootstrap=True, max_depth=100, min_samples_leaf=1, min_samples_split=10, n_estimators=1800; total time=  13.5s\n",
      "[CV] END bootstrap=True, max_depth=20, min_samples_leaf=2, min_samples_split=10, n_estimators=1400; total time=   9.8s\n",
      "[CV] END bootstrap=False, max_depth=30, min_samples_leaf=2, min_samples_split=2, n_estimators=1400; total time=  14.3s\n",
      "[CV] END bootstrap=False, max_depth=100, min_samples_leaf=2, min_samples_split=2, n_estimators=1600; total time=  16.4s\n",
      "[CV] END bootstrap=False, max_depth=40, min_samples_leaf=2, min_samples_split=2, n_estimators=1800; total time=  19.3s\n",
      "[CV] END bootstrap=True, max_depth=20, min_samples_leaf=4, min_samples_split=5, n_estimators=1200; total time=   9.1s\n",
      "[CV] END bootstrap=False, max_depth=None, min_samples_leaf=4, min_samples_split=5, n_estimators=400; total time=   3.8s\n",
      "[CV] END bootstrap=False, max_depth=50, min_samples_leaf=4, min_samples_split=5, n_estimators=600; total time=   5.9s\n",
      "[CV] END bootstrap=True, max_depth=60, min_samples_leaf=1, min_samples_split=5, n_estimators=1200; total time=  10.8s\n",
      "[CV] END bootstrap=True, max_depth=50, min_samples_leaf=1, min_samples_split=5, n_estimators=400; total time=   3.5s\n",
      "[CV] END bootstrap=False, max_depth=100, min_samples_leaf=4, min_samples_split=5, n_estimators=600; total time=   5.5s\n",
      "[CV] END bootstrap=True, max_depth=70, min_samples_leaf=1, min_samples_split=5, n_estimators=1400; total time=  11.3s\n",
      "[CV] END bootstrap=False, max_depth=80, min_samples_leaf=4, min_samples_split=10, n_estimators=1400; total time=  12.8s\n",
      "[CV] END bootstrap=True, max_depth=90, min_samples_leaf=1, min_samples_split=10, n_estimators=1200; total time=   9.5s\n",
      "[CV] END bootstrap=True, max_depth=70, min_samples_leaf=1, min_samples_split=10, n_estimators=1000; total time=   6.7s\n",
      "[CV] END bootstrap=False, max_depth=70, min_samples_leaf=2, min_samples_split=2, n_estimators=400; total time=   4.1s\n",
      "[CV] END bootstrap=False, max_depth=20, min_samples_leaf=1, min_samples_split=10, n_estimators=800; total time=   7.5s\n",
      "[CV] END bootstrap=False, max_depth=110, min_samples_leaf=2, min_samples_split=2, n_estimators=1400; total time=  15.1s\n",
      "[CV] END bootstrap=True, max_depth=80, min_samples_leaf=1, min_samples_split=5, n_estimators=2000; total time=  15.4s\n",
      "[CV] END bootstrap=False, max_depth=40, min_samples_leaf=4, min_samples_split=5, n_estimators=400; total time=   3.5s\n",
      "[CV] END bootstrap=False, max_depth=90, min_samples_leaf=4, min_samples_split=10, n_estimators=1800; total time=  16.6s\n",
      "[CV] END bootstrap=True, max_depth=80, min_samples_leaf=1, min_samples_split=2, n_estimators=1200; total time=  10.1s\n",
      "[CV] END bootstrap=True, max_depth=10, min_samples_leaf=2, min_samples_split=5, n_estimators=1400; total time=   8.8s\n",
      "[CV] END bootstrap=True, max_depth=50, min_samples_leaf=2, min_samples_split=5, n_estimators=1200; total time=  10.7s\n",
      "[CV] END bootstrap=True, max_depth=20, min_samples_leaf=4, min_samples_split=5, n_estimators=1200; total time=   9.2s\n",
      "[CV] END bootstrap=True, max_depth=10, min_samples_leaf=1, min_samples_split=5, n_estimators=2000; total time=  12.7s\n",
      "[CV] END bootstrap=True, max_depth=70, min_samples_leaf=1, min_samples_split=5, n_estimators=200; total time=   1.8s\n",
      "[CV] END bootstrap=False, max_depth=110, min_samples_leaf=4, min_samples_split=10, n_estimators=1800; total time=  17.1s\n",
      "[CV] END bootstrap=True, max_depth=30, min_samples_leaf=4, min_samples_split=5, n_estimators=1800; total time=  13.1s\n",
      "[CV] END bootstrap=False, max_depth=80, min_samples_leaf=4, min_samples_split=10, n_estimators=1400; total time=  13.0s\n",
      "[CV] END bootstrap=False, max_depth=110, min_samples_leaf=2, min_samples_split=5, n_estimators=1000; total time=  10.0s\n",
      "[CV] END bootstrap=False, max_depth=60, min_samples_leaf=1, min_samples_split=2, n_estimators=1000; total time=  10.0s\n",
      "[CV] END bootstrap=True, max_depth=None, min_samples_leaf=1, min_samples_split=2, n_estimators=800; total time=   6.6s\n",
      "[CV] END bootstrap=True, max_depth=60, min_samples_leaf=1, min_samples_split=2, n_estimators=1400; total time=  12.9s\n",
      "[CV] END bootstrap=False, max_depth=50, min_samples_leaf=1, min_samples_split=10, n_estimators=1600; total time=  15.4s\n",
      "[CV] END bootstrap=True, max_depth=60, min_samples_leaf=2, min_samples_split=2, n_estimators=200; total time=   1.5s\n",
      "[CV] END bootstrap=False, max_depth=10, min_samples_leaf=4, min_samples_split=10, n_estimators=600; total time=   3.7s\n",
      "[CV] END bootstrap=True, max_depth=20, min_samples_leaf=2, min_samples_split=2, n_estimators=1800; total time=  14.0s\n",
      "[CV] END bootstrap=True, max_depth=50, min_samples_leaf=1, min_samples_split=2, n_estimators=200; total time=   1.8s\n",
      "[CV] END bootstrap=False, max_depth=None, min_samples_leaf=4, min_samples_split=10, n_estimators=1600; total time=  14.4s\n",
      "[CV] END bootstrap=False, max_depth=20, min_samples_leaf=1, min_samples_split=10, n_estimators=1400; total time=  13.9s\n",
      "[CV] END bootstrap=True, max_depth=100, min_samples_leaf=1, min_samples_split=2, n_estimators=1400; total time=  12.7s\n",
      "[CV] END bootstrap=True, max_depth=None, min_samples_leaf=2, min_samples_split=10, n_estimators=200; total time=   1.6s\n",
      "[CV] END bootstrap=False, max_depth=30, min_samples_leaf=4, min_samples_split=2, n_estimators=1800; total time=  17.9s\n",
      "[CV] END bootstrap=True, max_depth=60, min_samples_leaf=4, min_samples_split=10, n_estimators=1200; total time=   9.2s\n",
      "[CV] END bootstrap=True, max_depth=50, min_samples_leaf=1, min_samples_split=5, n_estimators=200; total time=   1.6s\n",
      "[CV] END bootstrap=False, max_depth=100, min_samples_leaf=4, min_samples_split=2, n_estimators=1800; total time=  16.5s\n",
      "[CV] END bootstrap=False, max_depth=50, min_samples_leaf=4, min_samples_split=2, n_estimators=400; total time=   3.7s\n",
      "[CV] END bootstrap=False, max_depth=None, min_samples_leaf=1, min_samples_split=10, n_estimators=1800; total time=  17.6s\n",
      "[CV] END bootstrap=True, max_depth=70, min_samples_leaf=1, min_samples_split=10, n_estimators=1000; total time=   6.8s\n",
      "[CV] END bootstrap=False, max_depth=70, min_samples_leaf=2, min_samples_split=2, n_estimators=400; total time=   4.0s\n",
      "[CV] END bootstrap=True, max_depth=40, min_samples_leaf=1, min_samples_split=10, n_estimators=1600; total time=  13.5s\n",
      "[CV] END bootstrap=False, max_depth=100, min_samples_leaf=2, min_samples_split=10, n_estimators=800; total time=   7.6s\n",
      "[CV] END bootstrap=False, max_depth=80, min_samples_leaf=1, min_samples_split=10, n_estimators=800; total time=   7.5s\n",
      "[CV] END bootstrap=True, max_depth=40, min_samples_leaf=4, min_samples_split=10, n_estimators=1400; total time=   9.6s\n",
      "[CV] END bootstrap=False, max_depth=40, min_samples_leaf=4, min_samples_split=5, n_estimators=400; total time=   3.6s\n",
      "[CV] END bootstrap=True, max_depth=80, min_samples_leaf=2, min_samples_split=5, n_estimators=1600; total time=  12.7s\n",
      "[CV] END bootstrap=False, max_depth=30, min_samples_leaf=1, min_samples_split=2, n_estimators=1400; total time=  15.1s\n",
      "[CV] END bootstrap=False, max_depth=100, min_samples_leaf=1, min_samples_split=10, n_estimators=800; total time=   8.4s\n",
      "[CV] END bootstrap=False, max_depth=70, min_samples_leaf=4, min_samples_split=10, n_estimators=1000; total time=  10.0s\n",
      "[CV] END bootstrap=True, max_depth=20, min_samples_leaf=4, min_samples_split=5, n_estimators=1200; total time=   9.0s\n",
      "[CV] END bootstrap=True, max_depth=10, min_samples_leaf=1, min_samples_split=5, n_estimators=2000; total time=  12.8s\n",
      "[CV] END bootstrap=True, max_depth=60, min_samples_leaf=1, min_samples_split=5, n_estimators=1200; total time=  10.7s\n",
      "[CV] END bootstrap=False, max_depth=20, min_samples_leaf=4, min_samples_split=10, n_estimators=2000; total time=  17.5s\n",
      "[CV] END bootstrap=False, max_depth=80, min_samples_leaf=1, min_samples_split=2, n_estimators=800; total time=   8.8s\n",
      "[CV] END bootstrap=False, max_depth=None, min_samples_leaf=1, min_samples_split=10, n_estimators=1800; total time=  18.1s\n",
      "[CV] END bootstrap=True, max_depth=60, min_samples_leaf=1, min_samples_split=2, n_estimators=600; total time=   4.3s\n",
      "[CV] END bootstrap=False, max_depth=100, min_samples_leaf=2, min_samples_split=2, n_estimators=600; total time=   5.7s\n",
      "[CV] END bootstrap=True, max_depth=40, min_samples_leaf=1, min_samples_split=10, n_estimators=1600; total time=  13.4s\n",
      "[CV] END bootstrap=True, max_depth=100, min_samples_leaf=2, min_samples_split=2, n_estimators=1400; total time=  11.2s\n",
      "[CV] END bootstrap=True, max_depth=80, min_samples_leaf=1, min_samples_split=5, n_estimators=2000; total time=  15.5s\n",
      "[CV] END bootstrap=True, max_depth=20, min_samples_leaf=2, min_samples_split=2, n_estimators=1800; total time=  14.0s\n",
      "[CV] END bootstrap=True, max_depth=50, min_samples_leaf=1, min_samples_split=2, n_estimators=200; total time=   1.8s\n",
      "[CV] END bootstrap=False, max_depth=None, min_samples_leaf=4, min_samples_split=10, n_estimators=1600; total time=  14.1s\n",
      "[CV] END bootstrap=False, max_depth=100, min_samples_leaf=1, min_samples_split=10, n_estimators=800; total time=   8.2s\n",
      "[CV] END bootstrap=True, max_depth=70, min_samples_leaf=1, min_samples_split=2, n_estimators=1600; total time=  15.0s\n",
      "[CV] END bootstrap=True, max_depth=50, min_samples_leaf=1, min_samples_split=5, n_estimators=800; total time=   6.9s\n",
      "[CV] END bootstrap=False, max_depth=None, min_samples_leaf=4, min_samples_split=5, n_estimators=400; total time=   3.9s\n",
      "[CV] END bootstrap=False, max_depth=50, min_samples_leaf=4, min_samples_split=5, n_estimators=600; total time=   5.7s\n",
      "[CV] END bootstrap=True, max_depth=10, min_samples_leaf=2, min_samples_split=5, n_estimators=400; total time=   2.7s\n",
      "[CV] END bootstrap=True, max_depth=70, min_samples_leaf=1, min_samples_split=10, n_estimators=400; total time=   3.5s\n",
      "[CV] END bootstrap=True, max_depth=70, min_samples_leaf=1, min_samples_split=10, n_estimators=400; total time=   3.5s\n",
      "[CV] END bootstrap=False, max_depth=20, min_samples_leaf=1, min_samples_split=2, n_estimators=800; total time=   8.2s\n",
      "[CV] END bootstrap=True, max_depth=40, min_samples_leaf=1, min_samples_split=2, n_estimators=800; total time=   6.8s\n",
      "[CV] END bootstrap=False, max_depth=90, min_samples_leaf=2, min_samples_split=5, n_estimators=1400; total time=  13.8s\n",
      "[CV] END bootstrap=False, max_depth=None, min_samples_leaf=1, min_samples_split=10, n_estimators=1800; total time=  17.9s\n",
      "[CV] END bootstrap=True, max_depth=60, min_samples_leaf=1, min_samples_split=2, n_estimators=600; total time=   4.4s\n",
      "[CV] END bootstrap=False, max_depth=100, min_samples_leaf=2, min_samples_split=2, n_estimators=600; total time=   5.9s\n",
      "[CV] END bootstrap=True, max_depth=40, min_samples_leaf=1, min_samples_split=10, n_estimators=1600; total time=  13.2s\n",
      "[CV] END bootstrap=True, max_depth=100, min_samples_leaf=2, min_samples_split=2, n_estimators=1400; total time=  11.3s\n",
      "[CV] END bootstrap=True, max_depth=40, min_samples_leaf=4, min_samples_split=10, n_estimators=1400; total time=   9.5s\n",
      "[CV] END bootstrap=False, max_depth=10, min_samples_leaf=1, min_samples_split=2, n_estimators=1800; total time=  11.6s\n",
      "[CV] END bootstrap=True, max_depth=80, min_samples_leaf=2, min_samples_split=5, n_estimators=1600; total time=  12.9s\n",
      "[CV] END bootstrap=True, max_depth=60, min_samples_leaf=1, min_samples_split=5, n_estimators=600; total time=   4.9s\n",
      "[CV] END bootstrap=True, max_depth=60, min_samples_leaf=1, min_samples_split=5, n_estimators=600; total time=   4.8s\n",
      "[CV] END bootstrap=True, max_depth=10, min_samples_leaf=2, min_samples_split=5, n_estimators=1400; total time=   8.6s\n",
      "[CV] END bootstrap=True, max_depth=50, min_samples_leaf=2, min_samples_split=5, n_estimators=1200; total time=  10.4s\n",
      "[CV] END bootstrap=False, max_depth=10, min_samples_leaf=4, min_samples_split=2, n_estimators=1600; total time=  10.9s\n",
      "[CV] END bootstrap=False, max_depth=30, min_samples_leaf=4, min_samples_split=2, n_estimators=1800; total time=  17.7s\n",
      "[CV] END bootstrap=True, max_depth=60, min_samples_leaf=4, min_samples_split=10, n_estimators=1200; total time=   9.2s\n",
      "[CV] END bootstrap=False, max_depth=100, min_samples_leaf=4, min_samples_split=5, n_estimators=600; total time=   5.3s\n",
      "[CV] END bootstrap=True, max_depth=70, min_samples_leaf=1, min_samples_split=5, n_estimators=1400; total time=  11.5s\n",
      "[CV] END bootstrap=True, max_depth=80, min_samples_leaf=4, min_samples_split=2, n_estimators=2000; total time=  15.0s\n",
      "[CV] END bootstrap=False, max_depth=110, min_samples_leaf=2, min_samples_split=5, n_estimators=1000; total time=   9.2s\n",
      "[CV] END bootstrap=True, max_depth=110, min_samples_leaf=4, min_samples_split=10, n_estimators=600; total time=   3.6s\n",
      "[CV] END bootstrap=True, max_depth=10, min_samples_leaf=2, min_samples_split=5, n_estimators=1000; total time=   5.7s\n",
      "[CV] END bootstrap=True, max_depth=60, min_samples_leaf=2, min_samples_split=10, n_estimators=200; total time=   1.5s\n",
      "[CV] END bootstrap=False, max_depth=20, min_samples_leaf=1, min_samples_split=10, n_estimators=800; total time=   7.5s\n",
      "[CV] END bootstrap=False, max_depth=110, min_samples_leaf=2, min_samples_split=2, n_estimators=1400; total time=  14.7s\n",
      "[CV] END bootstrap=True, max_depth=80, min_samples_leaf=1, min_samples_split=5, n_estimators=2000; total time=  15.7s\n",
      "[CV] END bootstrap=False, max_depth=40, min_samples_leaf=4, min_samples_split=5, n_estimators=400; total time=   3.5s\n",
      "[CV] END bootstrap=False, max_depth=90, min_samples_leaf=4, min_samples_split=10, n_estimators=1800; total time=  16.5s\n",
      "[CV] END bootstrap=True, max_depth=80, min_samples_leaf=1, min_samples_split=2, n_estimators=1200; total time=   9.9s\n",
      "[CV] END bootstrap=False, max_depth=110, min_samples_leaf=2, min_samples_split=2, n_estimators=400; total time=   4.0s\n",
      "[CV] END bootstrap=False, max_depth=40, min_samples_leaf=2, min_samples_split=2, n_estimators=1800; total time=  19.9s\n",
      "[CV] END bootstrap=True, max_depth=10, min_samples_leaf=2, min_samples_split=5, n_estimators=600; total time=   3.8s\n",
      "[CV] END bootstrap=True, max_depth=None, min_samples_leaf=2, min_samples_split=10, n_estimators=200; total time=   1.6s\n",
      "[CV] END bootstrap=True, max_depth=90, min_samples_leaf=1, min_samples_split=5, n_estimators=600; total time=   5.3s\n",
      "[CV] END bootstrap=False, max_depth=90, min_samples_leaf=4, min_samples_split=5, n_estimators=1400; total time=  13.7s\n",
      "[CV] END bootstrap=False, max_depth=100, min_samples_leaf=1, min_samples_split=10, n_estimators=600; total time=   6.3s\n",
      "[CV] END bootstrap=True, max_depth=50, min_samples_leaf=1, min_samples_split=5, n_estimators=400; total time=   3.3s\n",
      "[CV] END bootstrap=True, max_depth=50, min_samples_leaf=1, min_samples_split=5, n_estimators=200; total time=   1.7s\n",
      "[CV] END bootstrap=True, max_depth=40, min_samples_leaf=1, min_samples_split=2, n_estimators=800; total time=   6.7s\n",
      "[CV] END bootstrap=False, max_depth=90, min_samples_leaf=2, min_samples_split=5, n_estimators=1400; total time=  14.2s\n",
      "[CV] END bootstrap=True, max_depth=50, min_samples_leaf=1, min_samples_split=5, n_estimators=1000; total time=   8.5s\n",
      "[CV] END bootstrap=False, max_depth=110, min_samples_leaf=2, min_samples_split=5, n_estimators=1000; total time=   9.4s\n",
      "[CV] END bootstrap=True, max_depth=70, min_samples_leaf=1, min_samples_split=10, n_estimators=1000; total time=   6.6s\n",
      "[CV] END bootstrap=False, max_depth=40, min_samples_leaf=2, min_samples_split=10, n_estimators=600; total time=   5.8s\n",
      "[CV] END bootstrap=True, max_depth=40, min_samples_leaf=2, min_samples_split=2, n_estimators=1600; total time=  13.8s\n",
      "[CV] END bootstrap=True, max_depth=60, min_samples_leaf=1, min_samples_split=2, n_estimators=400; total time=   3.3s\n",
      "[CV] END bootstrap=False, max_depth=50, min_samples_leaf=1, min_samples_split=10, n_estimators=1600; total time=  15.0s\n",
      "[CV] END bootstrap=False, max_depth=10, min_samples_leaf=1, min_samples_split=2, n_estimators=1800; total time=  11.7s\n",
      "[CV] END bootstrap=False, max_depth=100, min_samples_leaf=2, min_samples_split=10, n_estimators=2000; total time=  19.0s\n",
      "[CV] END bootstrap=True, max_depth=60, min_samples_leaf=1, min_samples_split=5, n_estimators=600; total time=   4.9s\n",
      "[CV] END bootstrap=False, max_depth=100, min_samples_leaf=1, min_samples_split=10, n_estimators=800; total time=   8.3s\n",
      "[CV] END bootstrap=True, max_depth=70, min_samples_leaf=1, min_samples_split=2, n_estimators=1600; total time=  14.8s\n",
      "[CV] END bootstrap=False, max_depth=10, min_samples_leaf=1, min_samples_split=10, n_estimators=800; total time=   5.5s\n",
      "[CV] END bootstrap=False, max_depth=30, min_samples_leaf=4, min_samples_split=2, n_estimators=1800; total time=  17.3s\n",
      "[CV] END bootstrap=True, max_depth=70, min_samples_leaf=1, min_samples_split=10, n_estimators=400; total time=   3.4s\n",
      "[CV] END bootstrap=False, max_depth=100, min_samples_leaf=1, min_samples_split=10, n_estimators=600; total time=   6.2s\n",
      "[CV] END bootstrap=False, max_depth=100, min_samples_leaf=4, min_samples_split=5, n_estimators=600; total time=   5.5s\n",
      "[CV] END bootstrap=False, max_depth=90, min_samples_leaf=2, min_samples_split=5, n_estimators=1400; total time=  13.9s\n",
      "[CV] END bootstrap=True, max_depth=40, min_samples_leaf=1, min_samples_split=10, n_estimators=800; total time=   6.4s\n",
      "[CV] END bootstrap=True, max_depth=50, min_samples_leaf=1, min_samples_split=5, n_estimators=1000; total time=   8.4s\n",
      "[CV] END bootstrap=True, max_depth=80, min_samples_leaf=1, min_samples_split=10, n_estimators=2000; total time=  11.6s\n",
      "[CV] END bootstrap=True, max_depth=60, min_samples_leaf=1, min_samples_split=2, n_estimators=600; total time=   4.4s\n",
      "[CV] END bootstrap=False, max_depth=40, min_samples_leaf=2, min_samples_split=10, n_estimators=600; total time=   5.5s\n",
      "[CV] END bootstrap=True, max_depth=None, min_samples_leaf=1, min_samples_split=2, n_estimators=800; total time=   6.8s\n",
      "[CV] END bootstrap=True, max_depth=10, min_samples_leaf=4, min_samples_split=2, n_estimators=1800; total time=  11.6s\n",
      "[CV] END bootstrap=True, max_depth=60, min_samples_leaf=1, min_samples_split=2, n_estimators=400; total time=   3.4s\n",
      "[CV] END bootstrap=False, max_depth=80, min_samples_leaf=1, min_samples_split=10, n_estimators=800; total time=   7.7s\n",
      "[CV] END bootstrap=True, max_depth=20, min_samples_leaf=2, min_samples_split=10, n_estimators=1400; total time=   9.8s\n",
      "[CV] END bootstrap=True, max_depth=20, min_samples_leaf=2, min_samples_split=2, n_estimators=1800; total time=  14.0s\n",
      "[CV] END bootstrap=True, max_depth=20, min_samples_leaf=1, min_samples_split=10, n_estimators=200; total time=   1.6s\n",
      "[CV] END bootstrap=False, max_depth=30, min_samples_leaf=1, min_samples_split=2, n_estimators=1400; total time=  15.4s\n",
      "[CV] END bootstrap=False, max_depth=20, min_samples_leaf=1, min_samples_split=10, n_estimators=1400; total time=  14.0s\n",
      "[CV] END bootstrap=False, max_depth=10, min_samples_leaf=4, min_samples_split=2, n_estimators=1600; total time=  11.2s\n",
      "[CV] END bootstrap=True, max_depth=50, min_samples_leaf=1, min_samples_split=5, n_estimators=800; total time=   6.9s\n",
      "[CV] END bootstrap=False, max_depth=None, min_samples_leaf=4, min_samples_split=5, n_estimators=400; total time=   3.9s\n",
      "[CV] END bootstrap=False, max_depth=30, min_samples_leaf=2, min_samples_split=10, n_estimators=400; total time=   4.0s\n",
      "[CV] END bootstrap=True, max_depth=70, min_samples_leaf=1, min_samples_split=5, n_estimators=200; total time=   1.8s\n",
      "[CV] END bootstrap=False, max_depth=110, min_samples_leaf=4, min_samples_split=10, n_estimators=1800; total time=  17.3s\n",
      "[CV] END bootstrap=True, max_depth=70, min_samples_leaf=1, min_samples_split=5, n_estimators=1400; total time=  11.5s\n",
      "[CV] END bootstrap=False, max_depth=50, min_samples_leaf=1, min_samples_split=2, n_estimators=400; total time=   4.3s\n",
      "[CV] END bootstrap=True, max_depth=40, min_samples_leaf=1, min_samples_split=10, n_estimators=800; total time=   6.4s\n",
      "[CV] END bootstrap=True, max_depth=50, min_samples_leaf=1, min_samples_split=5, n_estimators=1000; total time=   8.5s\n",
      "[CV] END bootstrap=True, max_depth=90, min_samples_leaf=1, min_samples_split=5, n_estimators=1800; total time=  11.1s\n",
      "[CV] END bootstrap=False, max_depth=60, min_samples_leaf=1, min_samples_split=2, n_estimators=1000; total time=  10.0s\n",
      "[CV] END bootstrap=True, max_depth=None, min_samples_leaf=1, min_samples_split=2, n_estimators=800; total time=   6.7s\n",
      "[CV] END bootstrap=True, max_depth=10, min_samples_leaf=4, min_samples_split=2, n_estimators=1800; total time=  11.6s\n",
      "[CV] END bootstrap=True, max_depth=100, min_samples_leaf=1, min_samples_split=10, n_estimators=1800; total time=  13.7s\n",
      "[CV] END bootstrap=True, max_depth=20, min_samples_leaf=2, min_samples_split=10, n_estimators=1400; total time=   9.9s\n",
      "[CV] END bootstrap=False, max_depth=90, min_samples_leaf=4, min_samples_split=10, n_estimators=1800; total time=  16.0s\n",
      "[CV] END bootstrap=True, max_depth=80, min_samples_leaf=1, min_samples_split=2, n_estimators=1200; total time=  10.1s\n",
      "[CV] END bootstrap=False, max_depth=110, min_samples_leaf=2, min_samples_split=2, n_estimators=400; total time=   4.1s\n",
      "[CV] END bootstrap=False, max_depth=40, min_samples_leaf=2, min_samples_split=2, n_estimators=1800; total time=  19.8s\n",
      "[CV] END bootstrap=True, max_depth=10, min_samples_leaf=2, min_samples_split=5, n_estimators=600; total time=   3.8s\n",
      "[CV] END bootstrap=False, max_depth=70, min_samples_leaf=4, min_samples_split=10, n_estimators=1200; total time=  11.5s\n",
      "[CV] END bootstrap=True, max_depth=10, min_samples_leaf=2, min_samples_split=5, n_estimators=400; total time=   2.5s\n",
      "[CV] END bootstrap=True, max_depth=70, min_samples_leaf=1, min_samples_split=5, n_estimators=200; total time=   1.9s\n",
      "[CV] END bootstrap=True, max_depth=30, min_samples_leaf=2, min_samples_split=5, n_estimators=1000; total time=   8.8s\n",
      "[CV] END bootstrap=False, max_depth=20, min_samples_leaf=4, min_samples_split=10, n_estimators=2000; total time=  17.6s\n",
      "[CV] END bootstrap=False, max_depth=80, min_samples_leaf=1, min_samples_split=2, n_estimators=800; total time=   8.6s\n",
      "[CV] END bootstrap=True, max_depth=30, min_samples_leaf=2, min_samples_split=10, n_estimators=1600; total time=  12.6s\n",
      "[CV] END bootstrap=True, max_depth=80, min_samples_leaf=1, min_samples_split=10, n_estimators=2000; total time=  12.0s\n",
      "[CV] END bootstrap=False, max_depth=60, min_samples_leaf=1, min_samples_split=2, n_estimators=1000; total time=   9.8s\n",
      "[CV] END bootstrap=True, max_depth=60, min_samples_leaf=2, min_samples_split=10, n_estimators=200; total time=   1.5s\n",
      "[CV] END bootstrap=True, max_depth=40, min_samples_leaf=2, min_samples_split=2, n_estimators=1600; total time=  13.7s\n",
      "[CV] END bootstrap=False, max_depth=100, min_samples_leaf=2, min_samples_split=10, n_estimators=800; total time=   7.6s\n",
      "[CV] END bootstrap=False, max_depth=70, min_samples_leaf=4, min_samples_split=2, n_estimators=1200; total time=  10.5s\n",
      "[CV] END bootstrap=False, max_depth=10, min_samples_leaf=1, min_samples_split=2, n_estimators=1800; total time=  11.6s\n",
      "[CV] END bootstrap=True, max_depth=80, min_samples_leaf=2, min_samples_split=5, n_estimators=1600; total time=  12.7s\n",
      "[CV] END bootstrap=False, max_depth=None, min_samples_leaf=4, min_samples_split=10, n_estimators=1600; total time=  14.5s\n",
      "[CV] END bootstrap=True, max_depth=40, min_samples_leaf=1, min_samples_split=2, n_estimators=1200; total time=  11.1s\n",
      "[CV] END bootstrap=True, max_depth=100, min_samples_leaf=1, min_samples_split=2, n_estimators=1400; total time=  12.7s\n",
      "[CV] END bootstrap=False, max_depth=70, min_samples_leaf=4, min_samples_split=10, n_estimators=1200; total time=  11.2s\n",
      "[CV] END bootstrap=False, max_depth=30, min_samples_leaf=2, min_samples_split=10, n_estimators=400; total time=   4.0s\n",
      "[CV] END bootstrap=True, max_depth=30, min_samples_leaf=2, min_samples_split=5, n_estimators=1000; total time=   8.8s\n",
      "[CV] END bootstrap=False, max_depth=20, min_samples_leaf=1, min_samples_split=2, n_estimators=800; total time=   8.3s\n",
      "[CV] END bootstrap=True, max_depth=40, min_samples_leaf=1, min_samples_split=2, n_estimators=800; total time=   6.8s\n",
      "[CV] END bootstrap=False, max_depth=80, min_samples_leaf=1, min_samples_split=2, n_estimators=800; total time=   8.7s\n",
      "[CV] END bootstrap=False, max_depth=50, min_samples_leaf=4, min_samples_split=2, n_estimators=400; total time=   3.6s\n",
      "[CV] END bootstrap=True, max_depth=30, min_samples_leaf=2, min_samples_split=10, n_estimators=1600; total time=  12.5s\n",
      "[CV] END bootstrap=True, max_depth=80, min_samples_leaf=1, min_samples_split=10, n_estimators=2000; total time=  11.7s\n",
      "[CV] END bootstrap=True, max_depth=110, min_samples_leaf=4, min_samples_split=10, n_estimators=600; total time=   3.7s\n",
      "[CV] END bootstrap=True, max_depth=10, min_samples_leaf=2, min_samples_split=5, n_estimators=1000; total time=   5.6s\n",
      "[CV] END bootstrap=False, max_depth=70, min_samples_leaf=2, min_samples_split=2, n_estimators=400; total time=   4.0s\n",
      "[CV] END bootstrap=True, max_depth=60, min_samples_leaf=1, min_samples_split=2, n_estimators=1400; total time=  13.0s\n",
      "[CV] END bootstrap=True, max_depth=60, min_samples_leaf=1, min_samples_split=2, n_estimators=400; total time=   3.2s\n",
      "[CV] END bootstrap=False, max_depth=50, min_samples_leaf=1, min_samples_split=10, n_estimators=1600; total time=  15.4s\n",
      "[CV] END bootstrap=True, max_depth=60, min_samples_leaf=2, min_samples_split=2, n_estimators=200; total time=   1.5s\n",
      "[CV] END bootstrap=True, max_depth=60, min_samples_leaf=2, min_samples_split=2, n_estimators=200; total time=   1.5s\n",
      "[CV] END bootstrap=False, max_depth=10, min_samples_leaf=4, min_samples_split=10, n_estimators=600; total time=   3.7s\n",
      "[CV] END bootstrap=False, max_depth=30, min_samples_leaf=2, min_samples_split=2, n_estimators=1400; total time=  13.8s\n",
      "[CV] END bootstrap=False, max_depth=30, min_samples_leaf=1, min_samples_split=2, n_estimators=1400; total time=  15.3s\n",
      "[CV] END bootstrap=False, max_depth=20, min_samples_leaf=1, min_samples_split=10, n_estimators=1400; total time=  14.1s\n",
      "[CV] END bootstrap=False, max_depth=10, min_samples_leaf=4, min_samples_split=2, n_estimators=1600; total time=  11.2s\n",
      "[CV] END bootstrap=True, max_depth=50, min_samples_leaf=1, min_samples_split=5, n_estimators=800; total time=   6.9s\n",
      "[CV] END bootstrap=False, max_depth=90, min_samples_leaf=4, min_samples_split=5, n_estimators=1400; total time=  13.7s\n",
      "[CV] END bootstrap=True, max_depth=60, min_samples_leaf=4, min_samples_split=10, n_estimators=1200; total time=   9.1s\n",
      "[CV] END bootstrap=True, max_depth=50, min_samples_leaf=1, min_samples_split=5, n_estimators=200; total time=   1.6s\n",
      "[CV] END bootstrap=False, max_depth=100, min_samples_leaf=4, min_samples_split=2, n_estimators=1800; total time=  16.0s\n",
      "[CV] END bootstrap=True, max_depth=80, min_samples_leaf=4, min_samples_split=2, n_estimators=2000; total time=  14.7s\n",
      "[CV] END bootstrap=True, max_depth=70, min_samples_leaf=1, min_samples_split=5, n_estimators=400; total time=   3.4s\n",
      "[CV] END bootstrap=True, max_depth=90, min_samples_leaf=1, min_samples_split=5, n_estimators=1800; total time=  10.5s\n",
      "[CV] END bootstrap=True, max_depth=10, min_samples_leaf=2, min_samples_split=5, n_estimators=1000; total time=   5.1s\n",
      "[CV] END bootstrap=False, max_depth=40, min_samples_leaf=2, min_samples_split=10, n_estimators=600; total time=   5.5s\n",
      "[CV] END bootstrap=False, max_depth=20, min_samples_leaf=1, min_samples_split=10, n_estimators=800; total time=   7.5s\n",
      "[CV] END bootstrap=True, max_depth=100, min_samples_leaf=2, min_samples_split=2, n_estimators=1400; total time=  12.1s\n",
      "[CV] END bootstrap=False, max_depth=80, min_samples_leaf=1, min_samples_split=10, n_estimators=800; total time=   7.9s\n",
      "[CV] END bootstrap=True, max_depth=40, min_samples_leaf=4, min_samples_split=10, n_estimators=1400; total time=   9.4s\n",
      "[CV] END bootstrap=False, max_depth=10, min_samples_leaf=4, min_samples_split=10, n_estimators=600; total time=   3.7s\n",
      "[CV] END bootstrap=False, max_depth=30, min_samples_leaf=2, min_samples_split=2, n_estimators=1400; total time=  14.3s\n",
      "[CV] END bootstrap=False, max_depth=100, min_samples_leaf=2, min_samples_split=2, n_estimators=1600; total time=  16.2s\n",
      "[CV] END bootstrap=True, max_depth=40, min_samples_leaf=1, min_samples_split=2, n_estimators=1200; total time=  10.9s\n",
      "[CV] END bootstrap=False, max_depth=70, min_samples_leaf=4, min_samples_split=10, n_estimators=1000; total time=   9.6s\n",
      "[CV] END bootstrap=True, max_depth=10, min_samples_leaf=2, min_samples_split=5, n_estimators=600; total time=   3.8s\n",
      "[CV] END bootstrap=True, max_depth=None, min_samples_leaf=2, min_samples_split=10, n_estimators=200; total time=   1.6s\n",
      "[CV] END bootstrap=True, max_depth=10, min_samples_leaf=1, min_samples_split=5, n_estimators=2000; total time=  12.8s\n",
      "[CV] END bootstrap=True, max_depth=60, min_samples_leaf=1, min_samples_split=5, n_estimators=1200; total time=  10.9s\n",
      "[CV] END bootstrap=False, max_depth=20, min_samples_leaf=4, min_samples_split=10, n_estimators=2000; total time=  17.6s\n",
      "[CV] END bootstrap=False, max_depth=50, min_samples_leaf=1, min_samples_split=2, n_estimators=400; total time=   4.3s\n",
      "[CV] END bootstrap=True, max_depth=80, min_samples_leaf=4, min_samples_split=2, n_estimators=2000; total time=  15.0s\n",
      "[CV] END bootstrap=True, max_depth=70, min_samples_leaf=1, min_samples_split=5, n_estimators=400; total time=   3.3s\n",
      "[CV] END bootstrap=True, max_depth=90, min_samples_leaf=1, min_samples_split=5, n_estimators=1800; total time=  10.5s\n"
     ]
    }
   ],
   "source": [
    "from sklearn.metrics import roc_auc_score\n",
    "\n",
    "y_pred = clf.predict(X_test)\n",
    "\n",
    "roc_auc_score(y_test, y_pred)"
   ]
  },
  {
   "cell_type": "code",
   "execution_count": 258,
   "id": "5ebd15c1-897e-4b90-b279-ed9d46f0280e",
   "metadata": {},
   "outputs": [
    {
     "data": {
      "image/png": "[encoded data removed]",
      "text/plain": [
       "<Figure size 2000x1000 with 1 Axes>"
      ]
     },
     "metadata": {},
     "output_type": "display_data"
    }
   ],
   "source": [
    "fig, ax = plt.subplots()\n",
    "plt.barh(np.arange(len(clf.feature_importances_)), clf.feature_importances_, label=X.columns)\n",
    "ax.set_yticks(np.arange(len(clf.feature_importances_)), labels=X.columns, fontsize=8)\n",
    "plt.rcParams[\"figure.figsize\"] = (20,10);"
   ]
  },
  {
   "cell_type": "code",
   "execution_count": 281,
   "id": "b040b686-95d0-4f7f-aa11-d0719110b217",
   "metadata": {},
   "outputs": [],
   "source": [
    "from sklearn.model_selection import GridSearchCV\n",
    "# Number of trees in random forest\n",
    "n_estimators = [int(x) for x in np.linspace(start = 200, stop = 2000, num = 10)]\n",
    "# Maximum number of levels in tree\n",
    "max_depth = [int(x) for x in np.linspace(10, 110, num = 11)]\n",
    "max_depth.append(None)\n",
    "# Minimum number of samples required to split a node\n",
    "min_samples_split = [2, 5, 10]\n",
    "# Minimum number of samples required at each leaf node\n",
    "min_samples_leaf = [1, 2, 4]\n",
    "# Method of selecting samples for training each tree\n",
    "bootstrap = [True, False]\n",
    "# Create the random grid\n",
    "random_grid = {'n_estimators': n_estimators,\n",
    "               'max_depth': max_depth,\n",
    "               'min_samples_split': min_samples_split,\n",
    "               'min_samples_leaf': min_samples_leaf,\n",
    "               'bootstrap': bootstrap}\n",
    "\n",
    "clf = RandomForestClassifier(max_features='sqrt', random_state=21)\n",
    "clf = RandomizedSearchCV(estimator = clf, param_distributions = random_grid, cv = 3, verbose=2, n_iter=100, random_state=21, n_jobs = -1, scoring='roc_auc_ovr')"
   ]
  },
  {
   "cell_type": "code",
   "execution_count": 282,
   "id": "ca489b76-fb65-47d9-9d23-69642f2ba4d3",
   "metadata": {},
   "outputs": [
    {
     "name": "stdout",
     "output_type": "stream",
     "text": [
      "Fitting 3 folds for each of 100 candidates, totalling 300 fits\n"
     ]
    },
    {
     "data": {
      "text/html": [
       "<style>#sk-container-id-27 {color: black;background-color: white;}#sk-container-id-27 pre{padding: 0;}#sk-container-id-27 div.sk-toggleable {background-color: white;}#sk-container-id-27 label.sk-toggleable__label {cursor: pointer;display: block;width: 100%;margin-bottom: 0;padding: 0.3em;box-sizing: border-box;text-align: center;}#sk-container-id-27 label.sk-toggleable__label-arrow:before {content: \"▸\";float: left;margin-right: 0.25em;color: #696969;}#sk-container-id-27 label.sk-toggleable__label-arrow:hover:before {color: black;}#sk-container-id-27 div.sk-estimator:hover label.sk-toggleable__label-arrow:before {color: black;}#sk-container-id-27 div.sk-toggleable__content {max-height: 0;max-width: 0;overflow: hidden;text-align: left;background-color: #f0f8ff;}#sk-container-id-27 div.sk-toggleable__content pre {margin: 0.2em;color: black;border-radius: 0.25em;background-color: #f0f8ff;}#sk-container-id-27 input.sk-toggleable__control:checked~div.sk-toggleable__content {max-height: 200px;max-width: 100%;overflow: auto;}#sk-container-id-27 input.sk-toggleable__control:checked~label.sk-toggleable__label-arrow:before {content: \"▾\";}#sk-container-id-27 div.sk-estimator input.sk-toggleable__control:checked~label.sk-toggleable__label {background-color: #d4ebff;}#sk-container-id-27 div.sk-label input.sk-toggleable__control:checked~label.sk-toggleable__label {background-color: #d4ebff;}#sk-container-id-27 input.sk-hidden--visually {border: 0;clip: rect(1px 1px 1px 1px);clip: rect(1px, 1px, 1px, 1px);height: 1px;margin: -1px;overflow: hidden;padding: 0;position: absolute;width: 1px;}#sk-container-id-27 div.sk-estimator {font-family: monospace;background-color: #f0f8ff;border: 1px dotted black;border-radius: 0.25em;box-sizing: border-box;margin-bottom: 0.5em;}#sk-container-id-27 div.sk-estimator:hover {background-color: #d4ebff;}#sk-container-id-27 div.sk-parallel-item::after {content: \"\";width: 100%;border-bottom: 1px solid gray;flex-grow: 1;}#sk-container-id-27 div.sk-label:hover label.sk-toggleable__label {background-color: #d4ebff;}#sk-container-id-27 div.sk-serial::before {content: \"\";position: absolute;border-left: 1px solid gray;box-sizing: border-box;top: 0;bottom: 0;left: 50%;z-index: 0;}#sk-container-id-27 div.sk-serial {display: flex;flex-direction: column;align-items: center;background-color: white;padding-right: 0.2em;padding-left: 0.2em;position: relative;}#sk-container-id-27 div.sk-item {position: relative;z-index: 1;}#sk-container-id-27 div.sk-parallel {display: flex;align-items: stretch;justify-content: center;background-color: white;position: relative;}#sk-container-id-27 div.sk-item::before, #sk-container-id-27 div.sk-parallel-item::before {content: \"\";position: absolute;border-left: 1px solid gray;box-sizing: border-box;top: 0;bottom: 0;left: 50%;z-index: -1;}#sk-container-id-27 div.sk-parallel-item {display: flex;flex-direction: column;z-index: 1;position: relative;background-color: white;}#sk-container-id-27 div.sk-parallel-item:first-child::after {align-self: flex-end;width: 50%;}#sk-container-id-27 div.sk-parallel-item:last-child::after {align-self: flex-start;width: 50%;}#sk-container-id-27 div.sk-parallel-item:only-child::after {width: 0;}#sk-container-id-27 div.sk-dashed-wrapped {border: 1px dashed gray;margin: 0 0.4em 0.5em 0.4em;box-sizing: border-box;padding-bottom: 0.4em;background-color: white;}#sk-container-id-27 div.sk-label label {font-family: monospace;font-weight: bold;display: inline-block;line-height: 1.2em;}#sk-container-id-27 div.sk-label-container {text-align: center;}#sk-container-id-27 div.sk-container {/* jupyter's `normalize.less` sets `[hidden] { display: none; }` but bootstrap.min.css set `[hidden] { display: none !important; }` so we also need the `!important` here to be able to override the default hidden behavior on the sphinx rendered scikit-learn.org. See: https://github.com/scikit-learn/scikit-learn/issues/21755 */display: inline-block !important;position: relative;}#sk-container-id-27 div.sk-text-repr-fallback {display: none;}</style><div id=\"sk-container-id-27\" class=\"sk-top-container\"><div class=\"sk-text-repr-fallback\"><pre>RandomizedSearchCV(cv=3, estimator=RandomForestClassifier(random_state=21),\n",
       "                   n_iter=100, n_jobs=-1,\n",
       "                   param_distributions={&#x27;bootstrap&#x27;: [True, False],\n",
       "                                        &#x27;max_depth&#x27;: [10, 20, 30, 40, 50, 60,\n",
       "                                                      70, 80, 90, 100, 110,\n",
       "                                                      None],\n",
       "                                        &#x27;min_samples_leaf&#x27;: [1, 2, 4],\n",
       "                                        &#x27;min_samples_split&#x27;: [2, 5, 10],\n",
       "                                        &#x27;n_estimators&#x27;: [200, 400, 600, 800,\n",
       "                                                         1000, 1200, 1400, 1600,\n",
       "                                                         1800, 2000]},\n",
       "                   random_state=21, scoring=&#x27;roc_auc_ovr&#x27;, verbose=2)</pre><b>In a Jupyter environment, please rerun this cell to show the HTML representation or trust the notebook. <br />On GitHub, the HTML representation is unable to render, please try loading this page with nbviewer.org.</b></div><div class=\"sk-container\" hidden><div class=\"sk-item sk-dashed-wrapped\"><div class=\"sk-label-container\"><div class=\"sk-label sk-toggleable\"><input class=\"sk-toggleable__control sk-hidden--visually\" id=\"sk-estimator-id-51\" type=\"checkbox\" ><label for=\"sk-estimator-id-51\" class=\"sk-toggleable__label sk-toggleable__label-arrow\">RandomizedSearchCV</label><div class=\"sk-toggleable__content\"><pre>RandomizedSearchCV(cv=3, estimator=RandomForestClassifier(random_state=21),\n",
       "                   n_iter=100, n_jobs=-1,\n",
       "                   param_distributions={&#x27;bootstrap&#x27;: [True, False],\n",
       "                                        &#x27;max_depth&#x27;: [10, 20, 30, 40, 50, 60,\n",
       "                                                      70, 80, 90, 100, 110,\n",
       "                                                      None],\n",
       "                                        &#x27;min_samples_leaf&#x27;: [1, 2, 4],\n",
       "                                        &#x27;min_samples_split&#x27;: [2, 5, 10],\n",
       "                                        &#x27;n_estimators&#x27;: [200, 400, 600, 800,\n",
       "                                                         1000, 1200, 1400, 1600,\n",
       "                                                         1800, 2000]},\n",
       "                   random_state=21, scoring=&#x27;roc_auc_ovr&#x27;, verbose=2)</pre></div></div></div><div class=\"sk-parallel\"><div class=\"sk-parallel-item\"><div class=\"sk-item\"><div class=\"sk-label-container\"><div class=\"sk-label sk-toggleable\"><input class=\"sk-toggleable__control sk-hidden--visually\" id=\"sk-estimator-id-52\" type=\"checkbox\" ><label for=\"sk-estimator-id-52\" class=\"sk-toggleable__label sk-toggleable__label-arrow\">estimator: RandomForestClassifier</label><div class=\"sk-toggleable__content\"><pre>RandomForestClassifier(random_state=21)</pre></div></div></div><div class=\"sk-serial\"><div class=\"sk-item\"><div class=\"sk-estimator sk-toggleable\"><input class=\"sk-toggleable__control sk-hidden--visually\" id=\"sk-estimator-id-53\" type=\"checkbox\" ><label for=\"sk-estimator-id-53\" class=\"sk-toggleable__label sk-toggleable__label-arrow\">RandomForestClassifier</label><div class=\"sk-toggleable__content\"><pre>RandomForestClassifier(random_state=21)</pre></div></div></div></div></div></div></div></div></div></div>"
      ],
      "text/plain": [
       "RandomizedSearchCV(cv=3, estimator=RandomForestClassifier(random_state=21),\n",
       "                   n_iter=100, n_jobs=-1,\n",
       "                   param_distributions={'bootstrap': [True, False],\n",
       "                                        'max_depth': [10, 20, 30, 40, 50, 60,\n",
       "                                                      70, 80, 90, 100, 110,\n",
       "                                                      None],\n",
       "                                        'min_samples_leaf': [1, 2, 4],\n",
       "                                        'min_samples_split': [2, 5, 10],\n",
       "                                        'n_estimators': [200, 400, 600, 800,\n",
       "                                                         1000, 1200, 1400, 1600,\n",
       "                                                         1800, 2000]},\n",
       "                   random_state=21, scoring='roc_auc_ovr', verbose=2)"
      ]
     },
     "execution_count": 282,
     "metadata": {},
     "output_type": "execute_result"
    }
   ],
   "source": [
    "clf.fit(X_train, y_train)"
   ]
  },
  {
   "cell_type": "code",
   "execution_count": 285,
   "id": "c954efd6-a80a-49ab-a8fd-f2e912668cbd",
   "metadata": {},
   "outputs": [
    {
     "data": {
      "text/plain": [
       "0.6099668005075524"
      ]
     },
     "execution_count": 285,
     "metadata": {},
     "output_type": "execute_result"
    }
   ],
   "source": [
    "clf.score(X_test, y_test)"
   ]
  },
  {
   "cell_type": "code",
   "execution_count": 286,
   "id": "d04b0e2f-ed4e-4232-be54-ea884813604d",
   "metadata": {},
   "outputs": [
    {
     "data": {
      "text/plain": [
       "0.5941961724983053"
      ]
     },
     "execution_count": 286,
     "metadata": {},
     "output_type": "execute_result"
    }
   ],
   "source": [
    "from sklearn.metrics import roc_auc_score\n",
    "\n",
    "y_pred = clf.predict(X_test)\n",
    "\n",
    "roc_auc_score(y_test, y_pred)"
   ]
  }
 ],
 "metadata": {
  "kernelspec": {
   "display_name": "Python 3 (ipykernel)",
   "language": "python",
   "name": "python3"
  },
  "language_info": {
   "codemirror_mode": {
    "name": "ipython",
    "version": 3
   },
   "file_extension": ".py",
   "mimetype": "text/x-python",
   "name": "python",
   "nbconvert_exporter": "python",
   "pygments_lexer": "ipython3",
   "version": "3.9.16"
  }
 },
 "nbformat": 4,
 "nbformat_minor": 5
}
